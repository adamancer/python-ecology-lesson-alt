{
 "cells": [
  {
   "cell_type": "markdown",
   "id": "224ee806-8841-455d-a1b1-893a009952a6",
   "metadata": {},
   "source": [
    "# Visualizing Data"
   ]
  },
  {
   "cell_type": "markdown",
   "id": "d0a0a27b-abec-443b-8726-93636090a6ea",
   "metadata": {
    "tags": [
     "metadata"
    ]
   },
   "source": [
    "## Metadata\n",
    "\n",
    "- Teaching: 60\n",
    "- Exercises: 0"
   ]
  },
  {
   "cell_type": "markdown",
   "id": "4db8f704-052c-4e25-8cd5-fa90f7f4234f",
   "metadata": {
    "tags": [
     "questions"
    ]
   },
   "source": [
    "## Questions\n",
    "\n",
    "- How can we create different types of plots using Python?\n",
    "- How can we style plots?\n",
    "- How can we add descriptive titles to plots and axes?"
   ]
  },
  {
   "cell_type": "markdown",
   "id": "52aecff1-ebb5-4e88-b6d8-f70544da0bd2",
   "metadata": {
    "tags": [
     "objectives"
    ]
   },
   "source": [
    "## Objectives\n",
    "\n",
    "- Review processes for reading, modifying, and combining dataframes\n",
    "- Make and customize scatter, box, and bar plots"
   ]
  },
  {
   "cell_type": "markdown",
   "id": "8a3232b1-524e-4662-9498-c13fecaf84e7",
   "metadata": {},
   "source": [
    "We'll begin by loading and preparing the data we'd like to plot. This will include operations introduced in previous lessons, including reading CSVs into dataframes, merging dataframes, sorting a dataframe, and removing records that include null values. We'll begin by importing pandas:"
   ]
  },
  {
   "cell_type": "code",
   "execution_count": null,
   "id": "d0b5ab83",
   "metadata": {},
   "outputs": [],
   "source": [
    "import pandas as pd"
   ]
  },
  {
   "cell_type": "markdown",
   "id": "9634d5c8",
   "metadata": {},
   "source": [
    "Next we'll load the surveys dataset using `pd.read_csv()`:"
   ]
  },
  {
   "cell_type": "code",
   "execution_count": null,
   "id": "82421a78",
   "metadata": {},
   "outputs": [],
   "source": [
    "surveys = pd.read_csv(\"data/surveys.csv\")"
   ]
  },
  {
   "cell_type": "markdown",
   "id": "d922bb8d",
   "metadata": {},
   "source": [
    "Now we want to take a quick look at the surveys dataset. Since we're going to be plotting data, we need to consider how we want to handle any null values in the dataset. The `info()` method provides an overview, including counts of non-null values, that we can use to assess the dataset."
   ]
  },
  {
   "cell_type": "code",
   "execution_count": null,
   "id": "6bac046f",
   "metadata": {},
   "outputs": [],
   "source": [
    "surveys.info()"
   ]
  },
  {
   "cell_type": "markdown",
   "id": "7ee31302",
   "metadata": {},
   "source": [
    "There are 35,459 records in the table. Four columns—species_id, sex, hindfoot_length, and weight—include null values, that is, they contain fewer non-null values than there are rows in the dataframe. We can us `fillna()` to replace null values where it makes sense to do so. For example, some specimens do not specify as sex. We can fill those values in with the letter U (for unknown):"
   ]
  },
  {
   "cell_type": "code",
   "execution_count": null,
   "id": "d8713ae9",
   "metadata": {},
   "outputs": [],
   "source": [
    "surveys[\"sex\"] = surveys[\"sex\"].fillna(\"U\")"
   ]
  },
  {
   "cell_type": "markdown",
   "id": "2f248cb6",
   "metadata": {},
   "source": [
    "The other three columns that contain null values are all required for the plots we will create below. This means that we can use `dropna()` to drop all rows where any column is null:"
   ]
  },
  {
   "cell_type": "code",
   "execution_count": null,
   "id": "2449cc2c",
   "metadata": {},
   "outputs": [],
   "source": [
    "surveys = surveys.dropna()"
   ]
  },
  {
   "cell_type": "markdown",
   "id": "f0e86a76",
   "metadata": {},
   "source": [
    "Now we we'll merge the main surveys dataframe with two other datasets containing additional information:\n",
    "\n",
    "- **species.csv** provides the genus and species corresponding to species_id\n",
    "- **plots.csv** provides the plot type corresponding to plot_id\n",
    "\n",
    "We will read each CSV and merge it into the main dataframe:"
   ]
  },
  {
   "cell_type": "code",
   "execution_count": null,
   "id": "0061094c",
   "metadata": {},
   "outputs": [],
   "source": [
    "species = pd.read_csv(\"data/species.csv\")\n",
    "plots = pd.read_csv(\"data/plots.csv\")\n",
    "\n",
    "surveys = surveys.merge(species, how=\"left\").merge(plots, how=\"left\")"
   ]
  },
  {
   "cell_type": "markdown",
   "id": "c2273710",
   "metadata": {
    "tags": [
     "callout"
    ]
   },
   "source": [
    "### Chaining\n",
    "\n",
    "The previous cell performs two merges in the same line of code. Performing multiple operations on the same object in a single line of code is called chaining."
   ]
  },
  {
   "cell_type": "markdown",
   "id": "9eb1dad8",
   "metadata": {},
   "source": [
    "We now have a dataframe that includes all observations from the Portal dataset that specify a species, weight, and hindfoot length, as well as descriptive metadata about each species and plot type. The taxa column contains the general type of animal. If we look at the unique values in this column--"
   ]
  },
  {
   "cell_type": "code",
   "execution_count": null,
   "id": "6b81f6ed",
   "metadata": {},
   "outputs": [],
   "source": [
    "surveys[\"taxa\"].unique()"
   ]
  },
  {
   "cell_type": "markdown",
   "id": "1895d5ee",
   "metadata": {},
   "source": [
    "--we can see that all remaining observations are of rodents. In honor of this, we will assign our dataframe to a new variable:"
   ]
  },
  {
   "cell_type": "code",
   "execution_count": null,
   "id": "6179fecd",
   "metadata": {},
   "outputs": [],
   "source": [
    "rodents = surveys\n",
    "rodents.sample(5)"
   ]
  },
  {
   "cell_type": "markdown",
   "id": "f2d5cf8a",
   "metadata": {},
   "source": [
    "Finally, we'll save the rodents dataframe to a file that we can load directly in the future if needed:"
   ]
  },
  {
   "cell_type": "code",
   "execution_count": null,
   "id": "3b747016",
   "metadata": {},
   "outputs": [],
   "source": [
    "rodents.to_csv(\"data/rodents.csv\", index=False)"
   ]
  },
  {
   "cell_type": "markdown",
   "id": "996530cc",
   "metadata": {},
   "source": [
    "Now we're ready to plot.\n",
    "\n",
    "## Re-introducing plotly\n",
    "\n",
    "We've already worked with plotly a little in previous lessons, but we haven't provided a comprehensive introduction. Plotly is a data visualization package for Python that allows us to create customizable, interactive plots of a variety of different types. Plotly makes plots that are:\n",
    "\n",
    "- **Customizable.** Allows the appearance of plots to be extensively modified. \n",
    "- **Interactive.** Pan and zoom across plots, or hover over elements to get additional information about them.\n",
    "- **Flexible.** Many different plot types can be created, often with only a few lines of code. Because plotly uses similar syntax for each plot type, it is also easy to quickly change plot types to get a different perspective on a dataset.\n",
    "- **Embeddable.** Interactive plots can be embedded on websites using ploty's JavaScript library."
   ]
  },
  {
   "cell_type": "markdown",
   "id": "a1f8de82",
   "metadata": {
    "tags": [
     "callout"
    ]
   },
   "source": [
    "## Other plotting libraries\n",
    "\n",
    "The R community has largely coalesced around gg2plot for plotting. In contrast, the Python community has no clear consensus pick and makes use of a number of data visualization packages. Some other commonly used packages include:\n",
    "\n",
    "- [Bokeh](https://bokeh.org/)\n",
    "- [Matplotlib](https://matplotlib.org/)\n",
    "- [seaborn](https://seaborn.pydata.org/)\n",
    "- [Vega-Altair](https://altair-viz.github.io/)\n",
    "\n",
    "The functionality of this packages overlaps to a large degree, and which one to use depends in large part on personal preference. "
   ]
  },
  {
   "cell_type": "markdown",
   "id": "cf80782c",
   "metadata": {},
   "source": [
    "Plotly has two main ways of making plots:\n",
    "\n",
    "- `plotly.express` provides a simplified interface for quickly building and customizing plots\n",
    "- `plotly.graph_objects` uses a more complex interface to provide more granular control over the contents of a plot\n",
    "\n",
    "We will use `plotly.express` in this lesson."
   ]
  },
  {
   "cell_type": "markdown",
   "id": "6e254b66",
   "metadata": {
    "tags": []
   },
   "source": [
    "We'll begin by reproducing the scatter plot from the [end of lesson 3](03-accessing-and-filtering-data.html#showing-data-on-a-plot), which included weight on the x axis and hindfoot length on the y axis. Likely pandas, the developers of `plotly.express` have a preferred alias, px, that we will use when we import `plotly.express`:"
   ]
  },
  {
   "cell_type": "code",
   "execution_count": null,
   "id": "9a641665",
   "metadata": {},
   "outputs": [],
   "source": [
    "import plotly.express as px\n",
    "\n",
    "px.scatter(rodents, x=\"weight\", y=\"hindfoot_length\")"
   ]
  },
  {
   "cell_type": "markdown",
   "id": "ee346c58",
   "metadata": {},
   "source": [
    "Before diving into the content of this plot, let's take a quick look at the interactive elements plotly makes available. When we hover over a plotly plot, a toolbar appears in the upper right corner. Each icon on the toolbar is a widget that allows us to interact with the plot. By default, the toolbar includes the following widgets:\n",
    "\n",
    "- The camera allows us to save the current view as a PNG file\n",
    "- The next four widgets are toggles that control how click-and-drag affects the plot. Only one can be active at a time.\n",
    "    - The magnifying glass enables drawing a box to zoom\n",
    "    - The crossing arrows enable panning\n",
    "    - The dotted box enables drawing a box to select data\n",
    "    - The dotted lasso enables drawing an arbitrary shape to to select data\n",
    "- The plus box allows us to zoom in\n",
    "- The minus box allows us to zoom out\n",
    "- The crossing arrows autoscale the plot to show all adata\n",
    "- The house resets the plot to the original view\n",
    "\n",
    "When we hover over a data point, we get a tooltip that shows information about that point.\n",
    "\n",
    "Now let's think about the plot itself."
   ]
  },
  {
   "cell_type": "markdown",
   "id": "27140894",
   "metadata": {
    "tags": [
     "challenge"
    ]
   },
   "source": [
    "### Challenge\n",
    "\n",
    "What are some limitations to the plot above? Think about how the data itself is presented as well as the general appearance of the plot."
   ]
  },
  {
   "cell_type": "markdown",
   "id": "df2f550a",
   "metadata": {
    "tags": [
     "solution"
    ]
   },
   "source": [
    "Some issues with the plot include the following:\n",
    "\n",
    "- All points are the same color\n",
    "- Large number of overlapping points, making it difficult to understand how data is distributed\n",
    "- Axis labels include underscores and lack units\n",
    "- No plot title\n",
    "\n",
    "Any others?"
   ]
  },
  {
   "cell_type": "markdown",
   "id": "cba2ce39",
   "metadata": {},
   "source": [
    "One issue with the plot is that many of the points in the dataframe overlap, making it difficult to get a feel for how the data is distributed. Does it cluster in places? Is it evenly distributed? We really can't tell. \n",
    "\n",
    "We can mitigate this issue in part by making the points semitransparent using the opacity keyword argument. We'll use a value of 0.2, which means the points are mostly transparent."
   ]
  },
  {
   "cell_type": "code",
   "execution_count": null,
   "id": "2926a59b",
   "metadata": {},
   "outputs": [],
   "source": [
    "px.scatter(rodents, x=\"weight\", y=\"hindfoot_length\", opacity=0.2)"
   ]
  },
  {
   "cell_type": "markdown",
   "id": "529fde0a",
   "metadata": {},
   "source": [
    "With the points now partially transparent, the places where they overlap are more obvious, and we can see several clusters. To get a better sense of what those clusters might be, let's add some color to the plot.\n",
    "\n",
    "At the end of lesson 4, we colored this scatter plot based on the species_id column. This revealed that several of the clusters reflected the species of rodent observed. But the use of species_id was problematic in other ways. For one, there are so many different species that colors ended up being re-used. For another, the species codes are not legible to people who are not intimately familiar with this dataset.\n",
    "\n",
    "With those concerns in mind, let's use genus for color instead. Genus information wasn't available in lesson 4, but we can use it now now that we've merged the surveys and species dataframes."
   ]
  },
  {
   "cell_type": "code",
   "execution_count": null,
   "id": "551b096b",
   "metadata": {},
   "outputs": [],
   "source": [
    "px.scatter(rodents, x=\"weight\", y=\"hindfoot_length\", color=\"genus\", opacity=0.2)"
   ]
  },
  {
   "cell_type": "markdown",
   "id": "529bcf9b",
   "metadata": {},
   "source": [
    "## Choosing colors\n",
    "\n",
    "One concern when making plots is to make sure they are legible to as broad an audience as possible. Clear, informative labels are one way to do this. Color is another.\n",
    "\n",
    "Plotly makes a number of color palettes available via its color module. Because we are working with categorical data, we will use a *qualitative* palette, which consists of a list of discrete colors. Other palette types are also available. For example, plots showing a range of values might benefit from using a *sequential* or *diverging* color scheme, which use a continuous range of colors (for example, blue to red for a heat map).\n",
    "\n",
    "Qualitative palettes are available under `px.colors.qualitative`. We can view the available plaettes using the swatches function:"
   ]
  },
  {
   "cell_type": "code",
   "execution_count": null,
   "id": "5d233df5",
   "metadata": {},
   "outputs": [],
   "source": [
    "px.colors.qualitative.swatches()"
   ]
  },
  {
   "cell_type": "markdown",
   "id": "faf248b7",
   "metadata": {},
   "source": [
    "In the spirit of effective communication with a wide audience, we will use `px.colors.qualitative.Safe`, a colorblind-safe palette. Because we will be using the same palette for the rest of the lesson, we will store the palette as a variable:"
   ]
  },
  {
   "cell_type": "code",
   "execution_count": null,
   "id": "c90d8293",
   "metadata": {},
   "outputs": [],
   "source": [
    "colors = px.colors.qualitative.Safe"
   ]
  },
  {
   "cell_type": "markdown",
   "id": "094160fd",
   "metadata": {},
   "source": [
    "In addition to simplifying the code for future plots a bit, storing the palette as a variable also allows us to quickly change the color scheme for all our plots at once if needed.\n",
    "\n",
    "Let's apply the safe colors to our scatter plot:"
   ]
  },
  {
   "cell_type": "code",
   "execution_count": null,
   "id": "ca157851",
   "metadata": {},
   "outputs": [],
   "source": [
    "px.scatter(\n",
    "    rodents,\n",
    "    x=\"weight\",\n",
    "    y=\"hindfoot_length\",\n",
    "    color=\"genus\",\n",
    "    opacity=0.2,\n",
    "    color_discrete_sequence=colors,\n",
    ")"
   ]
  },
  {
   "cell_type": "markdown",
   "id": "3abc880e",
   "metadata": {},
   "source": [
    "## Sorting data\n",
    "\n",
    "Take a look at the legend of the plot. The genera from the dataset are all listed, but they are in no apparent order. This makes it difficult for anyone looking at the plot to quickly pick out a given genus. We can alphabetize the legend to make it more readable. To do so, we can use the category_order keyword argument. \n",
    "\n",
    "This argument requires a `dict`. Recall that a `dict` is a mapping of keys to values defined using curly braces. The `dict` passed to category_orders maps a column name from the dataframe to a list of values in the preferred order.\n",
    "\n",
    "One approach to creating an alphabetical list would be to simply build the list manually. That would work well enough here, where we have only a handful of values, but quickly becomes unwiedly for larger datasets. Instead, we will used the built-in `sorted()` function to create a sorted list of values in the genus column. Because we will be using the same order in all following plots, we will store the dict with the sorted values in a variable that we can refer to whenever we need to and can change if needed."
   ]
  },
  {
   "cell_type": "markdown",
   "id": "b91928ff",
   "metadata": {
    "tags": [
     "challenge"
    ]
   },
   "source": [
    "### Challenge\n",
    "\n",
    "Create the `dict` needed for category_order. The `dict` should map the column name, `genus`, to an ordered list of unique values from that column."
   ]
  },
  {
   "cell_type": "code",
   "execution_count": null,
   "id": "5d674397",
   "metadata": {
    "tags": [
     "solution"
    ]
   },
   "outputs": [],
   "source": [
    "vals = rodents[\"genus\"]\n",
    "unique = vals.unique()\n",
    "ordered = sorted(unique)\n",
    "cat_order = {\"genus\": ordered}"
   ]
  },
  {
   "cell_type": "markdown",
   "id": "843f9f9f",
   "metadata": {},
   "source": [
    "In addition to the approach used in the challenge, we can create the `dict` we need with a single line of code:"
   ]
  },
  {
   "cell_type": "code",
   "execution_count": null,
   "id": "73b49a86",
   "metadata": {},
   "outputs": [],
   "source": [
    "cat_order = {\"genus\": sorted(rodents[\"genus\"].unique())}"
   ]
  },
  {
   "cell_type": "markdown",
   "id": "c2ab318b",
   "metadata": {},
   "source": [
    "That variable can now be passed to the category_orders keyword argument, producing a new version of the plot with an alphabetical legend."
   ]
  },
  {
   "cell_type": "code",
   "execution_count": null,
   "id": "e429d485",
   "metadata": {},
   "outputs": [],
   "source": [
    "px.scatter(\n",
    "    rodents,\n",
    "    x=\"weight\",\n",
    "    y=\"hindfoot_length\",\n",
    "    color=\"genus\",\n",
    "    opacity=0.2,\n",
    "    color_discrete_sequence=colors,\n",
    "    category_orders=cat_order,\n",
    ")"
   ]
  },
  {
   "cell_type": "markdown",
   "id": "74621854",
   "metadata": {},
   "source": [
    "Note that the colors in the plot have also changed. Colors are assigned based on the same category order used by the legend.\n",
    "\n",
    "## Adding plot and axis titles\n",
    "\n",
    "By default, plotly uses the column names from the dataframe to label the axes of a plot. Here, the axis labels are adequate but would benefit from removing the underscore and including units. We can use the labels keyword argument to assign human-readable labels to our plto. \n",
    "\n",
    "We will turn again to a `dict` for this, which we will use to map the underlying column names to preferred display values:"
   ]
  },
  {
   "cell_type": "code",
   "execution_count": null,
   "id": "7dd20a35",
   "metadata": {},
   "outputs": [],
   "source": [
    "labels = {\n",
    "    \"hindfoot_length\": \"Hindfoot length (mm)\",\n",
    "    \"genus\": \"Genus\",\n",
    "    \"weight\": \"Weight (g)\"\n",
    "}"
   ]
  },
  {
   "cell_type": "markdown",
   "id": "51c1a72c",
   "metadata": {},
   "source": [
    "We can then update the plot itself using the title and labels keyword arguments:"
   ]
  },
  {
   "cell_type": "code",
   "execution_count": null,
   "id": "35442aea",
   "metadata": {},
   "outputs": [],
   "source": [
    "px.scatter(\n",
    "    rodents,\n",
    "    x=\"weight\",\n",
    "    y=\"hindfoot_length\",\n",
    "    color=\"genus\",\n",
    "    opacity=0.2,\n",
    "    color_discrete_sequence=colors,\n",
    "    category_orders=cat_order,\n",
    "    title=\"Rodent size by genus\",\n",
    "    labels=labels,\n",
    ")"
   ]
  },
  {
   "cell_type": "markdown",
   "id": "88eaa2a7",
   "metadata": {},
   "source": [
    "## Create a faceted plot\n",
    "\n",
    "Even with the semitransparent points, there is a good deal of overlap among the data on this plot, particularly in the lower left part. It may be useful to plot each genus separately to see if anyting interesting is being obscured. We could do so using some of the techniques we've already covered. For example, we could filter the dataframe by genus and create a separate plots for each.\n",
    "\n",
    "Plotly provides a simpler approach called faceting. A facet is a type of filter, and a faceted plot includes a separate subplot for each unique value. In plotly, we can create a faceted plot using the facet_col keyword argument. This argument produces a separate subplot for each unique value in the specified column. The subplots are arranged in a single row.\n",
    "\n",
    "The plots we have created so far have not specified dimensions, but we will need to consider the size of the faceted plot. Because this plot includes a number of subplots, it may appear cramped unless it is quite wide. We can use the height and width keyword arguments to set the size of the plot. Each of these arguments requires an integer specifying a size in pixels.\n",
    "\n",
    "Let's update our plot to facet it by genus and make it 1400 pixels wide by 400 pixels tall:"
   ]
  },
  {
   "cell_type": "code",
   "execution_count": null,
   "id": "3bd9945d",
   "metadata": {},
   "outputs": [],
   "source": [
    "px.scatter(\n",
    "    rodents,\n",
    "    x=\"weight\",\n",
    "    y=\"hindfoot_length\",\n",
    "    color=\"genus\",\n",
    "    opacity=0.2,\n",
    "    color_discrete_sequence=colors,\n",
    "    category_orders=cat_order,\n",
    "    title=\"Rodent size by genus\",\n",
    "    labels=labels,\n",
    "    facet_col=\"genus\",\n",
    "    width=1400,\n",
    "    height=400,\n",
    ")"
   ]
  },
  {
   "cell_type": "markdown",
   "id": "0a18905c",
   "metadata": {
    "tags": [
     "callout"
    ]
   },
   "source": [
    "#### Row facets\n",
    "\n",
    "The facet_col argument produces a single row of subplots. There is another argument, facet_row, that places each subplot in a separate row instead. Column and row facets can even be combined, for example, to produce a grid of subplots with genus as columns and sex as rows."
   ]
  },
  {
   "cell_type": "markdown",
   "id": "52c01fe7",
   "metadata": {},
   "source": [
    "## Making a box plot\n",
    "\n",
    "We briefly discussed box plots (also known as box-and-whisker plots) in [lesson 4](04-aggregating-data.html#visualizing-groups-and-statistics) as part of the discussion of summary statistics. Box plots are an effective way to visualize the distribution of data. Plotly uses the `px.box()` method to generate them.\n",
    "\n",
    "Some issues raised about the plot created during the earlier lesson—including the arbitrary order in which data was plotted, the repeated colors, and the inclusion of species with no data—have already been addressed above. We can integrate them into the box plot using the same approaches that we used for the scatter plots previously. Let's create a box plot of hindfoot length by genus using the same color and ordering rules we defined earlier:"
   ]
  },
  {
   "cell_type": "code",
   "execution_count": null,
   "id": "883b5738",
   "metadata": {},
   "outputs": [],
   "source": [
    "px.box(\n",
    "    rodents,\n",
    "    x=\"genus\",\n",
    "    y=\"hindfoot_length\",\n",
    "    color=\"genus\",\n",
    "    color_discrete_sequence=colors,\n",
    "    category_orders=cat_order,\n",
    "    title=\"Rodent hindfoot length by genus\",\n",
    "    labels=labels,\n",
    ")"
   ]
  },
  {
   "cell_type": "markdown",
   "id": "b7489831",
   "metadata": {},
   "source": [
    "We now have a box plot with colors corresponding to the scatter plots above, with an alphabetically ordered x axis and legend. \n",
    "\n",
    "There are other aspects of the box plot that we may want to tweak. We'll start with a concern about how the data is being represented. By default, ploty's box plots show individual points only for outliers, that is, points that plot outside the upper and lower fences. This works well enough for normally distributed data but can obscure patterns for more complex distributions. And indeed, some genera, like *Dipodomys*, show a large number of outliers on the box pot and multiple clusters of data on the scatter plot. How might we update the box plot to better convey these distributions?\n",
    "\n",
    "The `px.box()` method includes a keyword argument, points, that allows us to change how the underlying data is displayed. It accepts three values:\n",
    "\n",
    "- *outliers* only shows the outliers (default)\n",
    "- *all* shows all points\n",
    "- *None* shows no points\n",
    "\n",
    "Let's try updating the box plot to show all the underlying data:"
   ]
  },
  {
   "cell_type": "code",
   "execution_count": null,
   "id": "1f121bc6",
   "metadata": {},
   "outputs": [],
   "source": [
    "px.box(\n",
    "    rodents,\n",
    "    x=\"genus\",\n",
    "    y=\"hindfoot_length\",\n",
    "    color=\"genus\",\n",
    "    color_discrete_sequence=colors,\n",
    "    category_orders=cat_order,\n",
    "    title=\"Rodent hindfoot length by genus\",\n",
    "    labels=labels,\n",
    "    points=\"all\",\n",
    ")"
   ]
  },
  {
   "cell_type": "markdown",
   "id": "b707be44",
   "metadata": {},
   "source": [
    "A point cloud is now visible to the left of each box-and-whisker. We can see that plotly has spread the points out a bit along the x axis. This process, called jitter, is necessary because otherwise the points for each category would fall in a vertical line. We can also see that we've run into the same problem we did above with the scatter plot: The large number of overlapping points for each box makes it hard to see what is going on inside each point cloud.\n",
    "\n",
    "We can again address this problem by changing the opacity of the markers. It's a little more complicated than it was for the scatter plot, however, because the `px.box()` method does not allow us to set the marker opacity directly. Instead, we have to build the plot, then update the existing markers using the `update_traces()` method. (Plotly refers to markers, lines, and other elements as traces.)"
   ]
  },
  {
   "cell_type": "code",
   "execution_count": null,
   "id": "825e511e",
   "metadata": {},
   "outputs": [],
   "source": [
    "fig = px.box(\n",
    "    rodents,\n",
    "    x=\"genus\",\n",
    "    y=\"hindfoot_length\",\n",
    "    color=\"genus\",\n",
    "    color_discrete_sequence=colors,\n",
    "    category_orders=cat_order,\n",
    "    title=\"Rodent hindfoot length by genus\",\n",
    "    labels=labels,\n",
    "    points=\"all\",\n",
    ")\n",
    "fig.update_traces(marker={\"opacity\": 0.1})"
   ]
  },
  {
   "cell_type": "markdown",
   "id": "dde99709",
   "metadata": {},
   "source": [
    "With the points now semitransparent, it is possible to see separate populations among some genera, like *Dipodomys*.\n",
    "\n",
    "Another way to examine the distribution of data is a violin plot, which visualizes the distribution of points as a line, similar to a Bell curve. We can change our box plot to a violin plot by swapping `px.violin()` in for `px.box()`: "
   ]
  },
  {
   "cell_type": "code",
   "execution_count": null,
   "id": "e340d58b",
   "metadata": {},
   "outputs": [],
   "source": [
    "fig = px.violin(\n",
    "    rodents,\n",
    "    x=\"genus\",\n",
    "    y=\"hindfoot_length\",\n",
    "    color=\"genus\",\n",
    "    color_discrete_sequence=colors,\n",
    "    category_orders=cat_order,\n",
    "    title=\"Rodent hindfoot length by genus\",\n",
    "    labels=labels,\n",
    "    points=\"all\",\n",
    ")\n",
    "fig.update_traces(marker={\"opacity\": 0.1})"
   ]
  },
  {
   "cell_type": "markdown",
   "id": "ae7b823c",
   "metadata": {},
   "source": [
    "This plot makes it easier to see identify complex distributions, like the bimodal distribution for *Chaetodipus*, that are visible but not necessarily obvious in the point clouds."
   ]
  },
  {
   "cell_type": "markdown",
   "id": "598259f5",
   "metadata": {
    "tags": [
     "challenge"
    ]
   },
   "source": [
    "## Challenge\n",
    "\n",
    "Let's return to a question posed all the way back in lesson 2: How has the weight of *Dipodomys* species changed over time? Make a plot that tries to answer this question."
   ]
  },
  {
   "cell_type": "markdown",
   "id": "0f8e5e2b",
   "metadata": {
    "tags": [
     "solution"
    ]
   },
   "source": [
    "There are several reasonable approaches to this question using the scatter plots and boxplots covered so far in this lesson. One possibility is a faceted plot showing the mean weight of each *Dipodomys* over the course of the study."
   ]
  },
  {
   "cell_type": "code",
   "execution_count": null,
   "id": "4969301d",
   "metadata": {
    "tags": [
     "continue"
    ]
   },
   "outputs": [],
   "source": [
    "# Create genus_species column\n",
    "rodents[\"genus_species\"] = rodents[\"genus\"] + \" \" + rodents[\"species\"]\n",
    "\n",
    "# Limit to Dipodomys\n",
    "dipodomys = rodents[rodents[\"genus\"] == \"Dipodomys\"].copy()\n",
    "\n",
    "# Group by genus_species\n",
    "grouped = dipodomys.groupby([\"genus_species\", \"year\"])[\"weight\"].mean().reset_index()\n",
    "\n",
    "# Create scatter plot\n",
    "px.scatter(grouped, x=\"year\", y=\"weight\", facet_col=\"genus_species\")"
   ]
  },
  {
   "cell_type": "markdown",
   "id": "0fa2d2c5",
   "metadata": {
    "tags": [
     "continue"
    ]
   },
   "source": [
    "The plot generated by this code shows that the mean weights for these species oscillated over the course of the study. Overall, mean weight increased slightly for the two smaller species but decreased for the largest species (albeit with a large oscillation that makes determining a trend difficult.)"
   ]
  },
  {
   "cell_type": "markdown",
   "id": "536b274b-64eb-472e-ae00-ba30d761c310",
   "metadata": {
    "tags": [
     "keypoints"
    ]
   },
   "source": [
    "## Keypoints\n",
    "\n",
    "- Plotly offers a wide variety of ways to build and style scatter plots\n",
    "- Use scatter plots to visualize how parameters covary\n",
    "- Use box and violin plots to visualize the distribution of a parameter"
   ]
  }
 ],
 "metadata": {
  "language_info": {
   "name": "python"
  }
 },
 "nbformat": 4,
 "nbformat_minor": 5
}