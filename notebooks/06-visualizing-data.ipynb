{
 "cells": [
  {
   "cell_type": "markdown",
   "id": "224ee806-8841-455d-a1b1-893a009952a6",
   "metadata": {},
   "source": [
    "# Visualizing Data"
   ]
  },
  {
   "cell_type": "markdown",
   "id": "d0a0a27b-abec-443b-8726-93636090a6ea",
   "metadata": {
    "tags": [
     "metadata"
    ]
   },
   "source": [
    "## Metadata\n",
    "\n",
    "- Teaching: 60\n",
    "- Exercises: 0"
   ]
  },
  {
   "cell_type": "markdown",
   "id": "4db8f704-052c-4e25-8cd5-fa90f7f4234f",
   "metadata": {
    "tags": [
     "questions"
    ]
   },
   "source": [
    "## Questions\n",
    "\n",
    "- How can we look at individual rows and columns in a dataframe?\n",
    "- How can we style plots?\n",
    "- How can we modify the table and data?"
   ]
  },
  {
   "cell_type": "markdown",
   "id": "52aecff1-ebb5-4e88-b6d8-f70544da0bd2",
   "metadata": {
    "tags": [
     "objectives"
    ]
   },
   "source": [
    "## Objectives\n",
    "\n",
    "- Review processes for reading, modifying, and combining dataframes\n",
    "- Make and customize scatter, box, and bar plots"
   ]
  },
  {
   "cell_type": "markdown",
   "id": "8a3232b1-524e-4662-9498-c13fecaf84e7",
   "metadata": {},
   "source": [
    "We'll begin by loading and preparing the data we'd like to plot. This will include operations introduced in previous lessons, including reading CSVs into dataframes, merging dataframes, sorting a dataframe, and removing records that include null values. We'll begin by importing pands:"
   ]
  },
  {
   "cell_type": "code",
   "execution_count": null,
   "id": "d0b5ab83",
   "metadata": {},
   "outputs": [],
   "source": [
    "import pandas as pd"
   ]
  },
  {
   "cell_type": "markdown",
   "id": "9634d5c8",
   "metadata": {},
   "source": [
    "Next we'll load the surveys dataset using `pd.read_csv()`:"
   ]
  },
  {
   "cell_type": "code",
   "execution_count": null,
   "id": "82421a78",
   "metadata": {},
   "outputs": [],
   "source": [
    "surveys = pd.read_csv(\"data/surveys.csv\")"
   ]
  },
  {
   "cell_type": "markdown",
   "id": "d922bb8d",
   "metadata": {},
   "source": [
    "Now we want to take a quick look at the surveys dataset. Since we're going to be plotting data, we need to "
   ]
  },
  {
   "cell_type": "code",
   "execution_count": null,
   "id": "6bac046f",
   "metadata": {},
   "outputs": [],
   "source": [
    "surveys.info()"
   ]
  },
  {
   "cell_type": "markdown",
   "id": "7ee31302",
   "metadata": {},
   "source": [
    "There are 35,459 records in the table. Four columns--species_id, sex, hindfoot_length, and weight--include null values."
   ]
  },
  {
   "cell_type": "code",
   "execution_count": null,
   "id": "d8713ae9",
   "metadata": {},
   "outputs": [],
   "source": [
    "surveys[\"sex\"] = surveys[\"sex\"].fillna(\"U\")"
   ]
  },
  {
   "cell_type": "markdown",
   "id": "2f248cb6",
   "metadata": {},
   "source": [
    "The plots below require records."
   ]
  },
  {
   "cell_type": "code",
   "execution_count": null,
   "id": "2449cc2c",
   "metadata": {},
   "outputs": [],
   "source": [
    "surveys = surveys.dropna()"
   ]
  },
  {
   "cell_type": "markdown",
   "id": "f0e86a76",
   "metadata": {},
   "source": [
    "Now we will merge the main surveys dataframe with two other datasets containing additional information:\n",
    "\n",
    "- **species.csv** provides the genus and species corresponding to species_id\n",
    "- **plots.csv** provides the plot type corresponding to plot_id\n",
    "\n",
    "We will read each CSV and merge it into the main dataframe:"
   ]
  },
  {
   "cell_type": "code",
   "execution_count": null,
   "id": "0061094c",
   "metadata": {},
   "outputs": [],
   "source": [
    "species = pd.read_csv(\"data/species.csv\")\n",
    "plots = pd.read_csv(\"data/plots.csv\")\n",
    "\n",
    "surveys = surveys.merge(species, how=\"left\").merge(plots, how=\"left\")"
   ]
  },
  {
   "cell_type": "markdown",
   "id": "c2273710",
   "metadata": {},
   "source": [
    "### Chaining\n",
    "\n",
    "The previous cell performs two merges in the same line of code. Performing multiple operations on the same object in a single line of code is called chaining."
   ]
  },
  {
   "cell_type": "code",
   "execution_count": null,
   "id": "9eb1dad8",
   "metadata": {},
   "outputs": [],
   "source": [
    "surveys[\"taxa\"].unique()"
   ]
  },
  {
   "cell_type": "markdown",
   "id": "1895d5ee",
   "metadata": {},
   "source": [
    "In honor of this, we will rename our dataframe:"
   ]
  },
  {
   "cell_type": "code",
   "execution_count": null,
   "id": "6179fecd",
   "metadata": {},
   "outputs": [],
   "source": [
    "rodents = surveys\n",
    "rodents.sample(5)"
   ]
  },
  {
   "cell_type": "markdown",
   "id": "f2d5cf8a",
   "metadata": {},
   "source": [
    "Finally we will save the rodents dataframe to a file:"
   ]
  },
  {
   "cell_type": "code",
   "execution_count": null,
   "id": "3b747016",
   "metadata": {},
   "outputs": [],
   "source": [
    "rodents.to_csv(\"data/rodents.csv\", index=False)"
   ]
  },
  {
   "cell_type": "markdown",
   "id": "a867058e",
   "metadata": {},
   "source": [
    "We can load that dataframe directly in the future."
   ]
  },
  {
   "cell_type": "markdown",
   "id": "996530cc",
   "metadata": {},
   "source": [
    "## Using plotly\n",
    "\n",
    "We've already worked a little with plotly in previous lessons.\n",
    "\n",
    "- **Customizable.** Allows the appearance of plots to be extensively modified. \n",
    "- **Interactive.** Pan and zoom across plots, or hover over elements to get additional information about them.\n",
    "- **Flexible.** Allows creation of many different plot types, often with only a few lines of code.\n",
    "- **Embeddable.** Interactive plots can be embedded on websites using ploty's JavaScript library.\n",
    "\n",
    "Plotly has two main ways of making plots:\n",
    "\n",
    "- plotly.express provides a simplified interface for quickly building and customizing plots\n",
    "- plotly.graph_objects uses a more complex interface to provide more granular control over the exact appearance of a plot\n",
    "\n",
    "We will use plotly.express in this lesson."
   ]
  },
  {
   "cell_type": "markdown",
   "id": "a1f8de82",
   "metadata": {
    "tags": [
     "callout"
    ]
   },
   "source": [
    "## Other plotting libraries\n",
    "\n",
    "The R community has largely coalesced around gg2plot for plotting. In contrast, the Python community uses a number of data visualization libraries. Some commonly used alternatives to plotly include:\n",
    "\n",
    "- [Bokeh](https://bokeh.org/)\n",
    "- [Matplotlib](https://matplotlib.org/)\n",
    "- [seaborn](https://seaborn.pydata.org/)\n",
    "- [Vega-Altair](https://altair-viz.github.io/)"
   ]
  },
  {
   "cell_type": "markdown",
   "id": "6e254b66",
   "metadata": {
    "tags": []
   },
   "source": [
    "We'll begin by reproducing the scatterplot from the end of lesson 4, which used weight on the x axis and hindfoot length on the y axis."
   ]
  },
  {
   "cell_type": "code",
   "execution_count": null,
   "id": "9a641665",
   "metadata": {},
   "outputs": [],
   "source": [
    "import plotly.express as px\n",
    "\n",
    "px.scatter(surveys, x=\"weight\", y=\"hindfoot_length\")"
   ]
  },
  {
   "cell_type": "markdown",
   "id": "ee346c58",
   "metadata": {},
   "source": [
    "Let's take a quick look at the interactive elements on this plot. When we hover over a plotly plot, a toolbar appears in the upper right corner. Each icon on the toolbar is a widget that allows us to interact with the plot. By default, the toolbar includes the following widgets:\n",
    "\n",
    "- The camera allows us to save the current view as a PNG file\n",
    "- The next four widgets are toggles that control how click-and-drag affects the plot. Only one can be active at a time.\n",
    "    - The magnifying glass enable a zoom box\n",
    "    - The crossing arrows enable panning\n",
    "    - The dotted box enables drawing a box to select data\n",
    "    - The dotted lasso enables drawing an arbitrary shape to to select data\n",
    "- The plus box allows us to zoom in\n",
    "- The minus box allows us to zoom out\n",
    "- The crossing arrows autoscale the plot to show all adata\n",
    "- The house resets the plot to the original view"
   ]
  },
  {
   "cell_type": "markdown",
   "id": "27140894",
   "metadata": {
    "tags": [
     "challenge"
    ]
   },
   "source": [
    "### Challenge\n",
    "\n",
    "What are some limitations to the plot above? Think about how the data itself is presented as well as the general appearance of the plot."
   ]
  },
  {
   "cell_type": "markdown",
   "id": "df2f550a",
   "metadata": {
    "tags": [
     "solution"
    ]
   },
   "source": [
    "- All points are the same color\n",
    "- Points overlap, making it difficult to understand how data is distributed\n",
    "- Axis labels include underscores and lack units\n",
    "- No plot title\n",
    "\n",
    "Any others?"
   ]
  },
  {
   "cell_type": "markdown",
   "id": "cba2ce39",
   "metadata": {},
   "source": [
    "One issue with the plot is that many of the points in the dataframe overlap, making it difficult to get a feel for how the data is distributed. Does it cluster in places? Is it evenly distributed? We really can't tell. \n",
    "\n",
    "We can mitigate this issue in part by making the points semitransparent using the opacity keyword argument:"
   ]
  },
  {
   "cell_type": "code",
   "execution_count": null,
   "id": "2926a59b",
   "metadata": {},
   "outputs": [],
   "source": [
    "px.scatter(surveys, x=\"weight\", y=\"hindfoot_length\", opacity=0.2)"
   ]
  },
  {
   "cell_type": "markdown",
   "id": "529fde0a",
   "metadata": {},
   "source": [
    "With the points now partially transparent, the places where they overlap are clearer, and we can see several areas where the observations cluster. "
   ]
  },
  {
   "cell_type": "code",
   "execution_count": null,
   "id": "551b096b",
   "metadata": {},
   "outputs": [],
   "source": [
    "px.scatter(surveys, x=\"weight\", y=\"hindfoot_length\", color=\"genus\", opacity=0.2)"
   ]
  },
  {
   "cell_type": "code",
   "execution_count": null,
   "id": "529bcf9b",
   "metadata": {},
   "outputs": [],
   "source": [
    "px.scatter(\n",
    "    surveys,\n",
    "    x=\"weight\",\n",
    "    y=\"hindfoot_length\",\n",
    "    color=\"genus\",\n",
    "    opacity=0.2,\n",
    "    color_discrete_sequence=px.colors.qualitative.Safe,\n",
    ")"
   ]
  },
  {
   "cell_type": "markdown",
   "id": "3abc880e",
   "metadata": {},
   "source": [
    "The legend of the plot is not ordered. Because we want to use a consistent color scheme across plots. We can use the category_order keyword argument to order the legend alphabetically. \n",
    "\n",
    "This argument uses a `dict`, which is a built-in data type that we have not discussed yet. That means it can be used in any Python application without having to import anything. Like a `list`, a `dict` is a container that can include more than one object. Where as a `list` is a sequence, a `dict` is a mapping consisting of *keys* that map to *values*.\n",
    "\n",
    "Let's see what that looks like in practice. Here we define a `dict` mapping lowercase to uppercase letters. Each pair of values is separated by a colon, with the key on the left and the value on the right."
   ]
  },
  {
   "cell_type": "code",
   "execution_count": null,
   "id": "8f4b6eeb",
   "metadata": {},
   "outputs": [],
   "source": [
    "letters = {\"a\": \"A\", \"b\": \"B\", \"c\": \"C\"}"
   ]
  },
  {
   "cell_type": "markdown",
   "id": "ee34fa5f",
   "metadata": {},
   "source": [
    "To retrieve the value for a given key, we use square brackets:"
   ]
  },
  {
   "cell_type": "code",
   "execution_count": null,
   "id": "af3cd2d1",
   "metadata": {},
   "outputs": [],
   "source": [
    "letters[\"a\"]"
   ]
  },
  {
   "cell_type": "markdown",
   "id": "b91928ff",
   "metadata": {},
   "source": [
    "The `dict` passed to category_orders maps a column name from the dataframe to a list of values in the preferred order. We stated above that we'd like the genera in the plot to appear in alphabetical order. We can construct that list manually. Instead, we will used the built-in `sorted()` function to sort the values from the genus column of the dataframe. Because we will be using the same order in all following plots, we will store the sorted values in a variable."
   ]
  },
  {
   "cell_type": "code",
   "execution_count": null,
   "id": "e3b0fa25",
   "metadata": {},
   "outputs": [],
   "source": [
    "order = sorted(surveys[\"genus\"].unique())\n",
    "order"
   ]
  },
  {
   "cell_type": "markdown",
   "id": "843f9f9f",
   "metadata": {},
   "source": [
    "We can then pass the full `dict`—that is, `{\"genus\": order}`—to the `px.scatter()` method to put the legend in alphabetical order:"
   ]
  },
  {
   "cell_type": "code",
   "execution_count": null,
   "id": "598259f5",
   "metadata": {},
   "outputs": [],
   "source": [
    "px.scatter(\n",
    "    surveys,\n",
    "    x=\"weight\",\n",
    "    y=\"hindfoot_length\",\n",
    "    color=\"genus\",\n",
    "    opacity=0.2,\n",
    "    color_discrete_sequence=px.colors.qualitative.Safe,\n",
    "    category_orders={\"genus\": order}\n",
    ")"
   ]
  },
  {
   "cell_type": "markdown",
   "id": "0a18905c",
   "metadata": {},
   "source": [
    "## Making a box plot"
   ]
  },
  {
   "cell_type": "code",
   "execution_count": null,
   "id": "883b5738",
   "metadata": {},
   "outputs": [],
   "source": [
    "px.box(\n",
    "    surveys,\n",
    "    x=\"genus\",\n",
    "    y=\"hindfoot_length\",\n",
    "    color=\"genus\",\n",
    "    color_discrete_sequence=px.colors.qualitative.Safe,\n",
    "    category_orders={\"genus\": order}\n",
    ")"
   ]
  },
  {
   "cell_type": "code",
   "execution_count": null,
   "id": "b7489831",
   "metadata": {},
   "outputs": [],
   "source": [
    "px.box(\n",
    "    surveys,\n",
    "    x=\"genus\",\n",
    "    y=\"hindfoot_length\",\n",
    "    color=\"genus\",\n",
    "    color_discrete_sequence=px.colors.qualitative.Safe,\n",
    "    category_orders={\"genus\": order},\n",
    ")"
   ]
  },
  {
   "cell_type": "code",
   "execution_count": null,
   "id": "1f121bc6",
   "metadata": {},
   "outputs": [],
   "source": [
    "px.box(\n",
    "    surveys,\n",
    "    x=\"genus\",\n",
    "    y=\"hindfoot_length\",\n",
    "    color=\"genus\",\n",
    "    color_discrete_sequence=px.colors.qualitative.Safe,\n",
    "    points=\"all\",\n",
    ")"
   ]
  },
  {
   "cell_type": "markdown",
   "id": "b707be44",
   "metadata": {},
   "source": [
    "To update, we can use the update_traces() method."
   ]
  },
  {
   "cell_type": "code",
   "execution_count": null,
   "id": "825e511e",
   "metadata": {},
   "outputs": [],
   "source": [
    "fig = px.box(\n",
    "    surveys,\n",
    "    x=\"genus\",\n",
    "    y=\"hindfoot_length\",\n",
    "    color=\"genus\",\n",
    "    color_discrete_sequence=px.colors.qualitative.Safe,\n",
    "    category_orders={\"genus\": order},\n",
    "    points=\"all\",\n",
    ")\n",
    "fig.update_traces(marker={\"opacity\": 0.2})"
   ]
  },
  {
   "cell_type": "markdown",
   "id": "dde99709",
   "metadata": {},
   "source": [
    "A similar plot is a violin plot. Try changing `px.box` to `px.violin` in the code above."
   ]
  },
  {
   "cell_type": "markdown",
   "id": "8bfa20d7",
   "metadata": {},
   "source": [
    "## Changing labels\n",
    "\n",
    "By default, plotly uses the column names from the dataframe as axis labels. Column names may be legible but are rarely ideal. \n",
    "\n",
    "Like category_orders, updating labels requires a `dict`."
   ]
  },
  {
   "cell_type": "code",
   "execution_count": null,
   "id": "3870f6ac",
   "metadata": {},
   "outputs": [],
   "source": [
    "fig = px.box(\n",
    "    surveys,\n",
    "    x=\"genus\",\n",
    "    y=\"hindfoot_length\",\n",
    "    color=\"genus\",\n",
    "    color_discrete_sequence=px.colors.qualitative.Safe,\n",
    "    category_orders={\"genus\": order},\n",
    "    points=\"all\",\n",
    "    title=\"Rodent hindfoot length by genus\",\n",
    "    labels={\n",
    "        \"hindfoot_length\": \"Hindfoot length (mm)\",\n",
    "        \"genus\": \"Genus\",\n",
    "    }\n",
    ")\n",
    "fig.update_traces(marker={\"opacity\": 0.2})"
   ]
  },
  {
   "cell_type": "markdown",
   "id": "9e1594e3",
   "metadata": {},
   "source": [
    "## Making a bar chart\n",
    "\n",
    "The stacked bar chart allows us to compare the total number of observations per year but obscures how counts of individual genera have varied over time. We can break each category into its own subplot by adding the `facet-col` keyword argument:"
   ]
  },
  {
   "cell_type": "code",
   "execution_count": null,
   "id": "e128b0c7",
   "metadata": {},
   "outputs": [],
   "source": [
    "grouped = rodents.groupby([\"year\", \"genus\"]).count().reset_index()\n",
    "px.bar(\n",
    "    grouped,\n",
    "    x=\"year\",\n",
    "    y=\"weight\",\n",
    "    color=\"genus\",\n",
    "    color_discrete_sequence=px.colors.qualitative.Safe,\n",
    ")"
   ]
  },
  {
   "cell_type": "code",
   "execution_count": null,
   "id": "4c75e79e",
   "metadata": {},
   "outputs": [],
   "source": [
    "px.bar(\n",
    "    grouped,\n",
    "    x=\"year\",\n",
    "    y=\"weight\",\n",
    "    color=\"genus\",\n",
    "    facet_col=\"genus\",\n",
    "    color_discrete_sequence=px.colors.qualitative.Safe,\n",
    ")"
   ]
  },
  {
   "cell_type": "markdown",
   "id": "536b274b-64eb-472e-ae00-ba30d761c310",
   "metadata": {
    "tags": [
     "keypoints"
    ]
   },
   "source": [
    "## Keypoints\n",
    "\n",
    "- Use square brackets to access rows, columns, and specific cells\n",
    "- Use operators like `+`, `-`, and `/` to perform arithmetic on rows and columns\n",
    "- Store the results of calculations in a dataframe by adding a new column or overwriting an existing column\n",
    "- Sort data, rename columns, and get unique values in a dataframe using methods provided by pandas\n",
    "- By default, most dataframe operations return a copy of the original data"
   ]
  }
 ],
 "metadata": {
  "language_info": {
   "name": "python"
  }
 },
 "nbformat": 4,
 "nbformat_minor": 5
}
