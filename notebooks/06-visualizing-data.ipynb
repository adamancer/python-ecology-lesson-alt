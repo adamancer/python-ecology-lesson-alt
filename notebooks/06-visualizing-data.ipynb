{
 "cells": [
  {
   "cell_type": "markdown",
   "id": "224ee806-8841-455d-a1b1-893a009952a6",
   "metadata": {},
   "source": [
    "# Visualizing data in a dataframe"
   ]
  },
  {
   "cell_type": "markdown",
   "id": "d0a0a27b-abec-443b-8726-93636090a6ea",
   "metadata": {
    "tags": [
     "metadata"
    ]
   },
   "source": [
    "## Metadata\n",
    "\n",
    "- Teaching: 60\n",
    "- Exercises: 0"
   ]
  },
  {
   "cell_type": "markdown",
   "id": "4db8f704-052c-4e25-8cd5-fa90f7f4234f",
   "metadata": {
    "tags": [
     "questions"
    ]
   },
   "source": [
    "## Questions\n",
    "\n",
    "- How can we look at individual rows and columns in a dataframe?\n",
    "- How can we perform calculations?\n",
    "- How can we modify the table and data?"
   ]
  },
  {
   "cell_type": "markdown",
   "id": "52aecff1-ebb5-4e88-b6d8-f70544da0bd2",
   "metadata": {
    "tags": [
     "objectives"
    ]
   },
   "source": [
    "## Objectives\n",
    "\n",
    "- Review processes for reading, modifying, and combining dataframes\n",
    "- Make and customize scatter, box, and bar plots"
   ]
  },
  {
   "cell_type": "markdown",
   "id": "8a3232b1-524e-4662-9498-c13fecaf84e7",
   "metadata": {},
   "source": [
    "We'll begin by loading and preparing the data we'd like to plot. This will include operations introduced in previous lessons, including reading CSVs into dataframes, creating a date column, merging dataframes, sorting a dataframe, and removing records including null values."
   ]
  },
  {
   "cell_type": "code",
   "execution_count": null,
   "id": "d0b5ab83",
   "metadata": {},
   "outputs": [],
   "source": [
    "import pandas as pd"
   ]
  },
  {
   "cell_type": "code",
   "execution_count": null,
   "id": "9634d5c8",
   "metadata": {},
   "outputs": [],
   "source": [
    "surveys = pd.read_csv(\"data/surveys.csv\")"
   ]
  },
  {
   "cell_type": "code",
   "execution_count": null,
   "id": "d922bb8d",
   "metadata": {},
   "outputs": [],
   "source": [
    "surveys.info()"
   ]
  },
  {
   "cell_type": "markdown",
   "id": "7ee31302",
   "metadata": {},
   "source": [
    "There are 35,459 records in the table. Four columns--species_id, sex, hindfoot_length, and weight--include null values."
   ]
  },
  {
   "cell_type": "code",
   "execution_count": null,
   "id": "d8713ae9",
   "metadata": {},
   "outputs": [],
   "source": [
    "surveys[\"sex\"] = surveys[\"sex\"].fillna(\"U\")"
   ]
  },
  {
   "cell_type": "markdown",
   "id": "2f248cb6",
   "metadata": {},
   "source": [
    "The plots below require records."
   ]
  },
  {
   "cell_type": "code",
   "execution_count": null,
   "id": "2449cc2c",
   "metadata": {},
   "outputs": [],
   "source": [
    "surveys = surveys.dropna()"
   ]
  },
  {
   "cell_type": "markdown",
   "id": "f0e86a76",
   "metadata": {},
   "source": [
    "Now we will merge the main surveys dataframe with two other datasets containing additional information:\n",
    "\n",
    "- **species.csv** provides the genus and species corresponding to species_id\n",
    "- **plots.csv** provides the plot type corresponding to plot_id\n",
    "\n",
    "We will read each CSV and merge it into the main dataframe:"
   ]
  },
  {
   "cell_type": "code",
   "execution_count": null,
   "id": "0061094c",
   "metadata": {},
   "outputs": [],
   "source": [
    "species = pd.read_csv(\"data/species.csv\")\n",
    "plots = pd.read_csv(\"data/plots.csv\")\n",
    "\n",
    "surveys = surveys.merge(species, how=\"left\").merge(plots, how=\"left\")"
   ]
  },
  {
   "cell_type": "code",
   "execution_count": null,
   "id": "c06a8cf3",
   "metadata": {},
   "outputs": [],
   "source": [
    "surveys[\"date\"] = pd.to_datetime(surveys[[\"year\", \"month\", \"day\"]])\n",
    "surveys = surveys.sort_values(\"plot_type\")"
   ]
  },
  {
   "cell_type": "code",
   "execution_count": null,
   "id": "5f80a304",
   "metadata": {},
   "outputs": [],
   "source": [
    "surveys[\"taxa\"].unique()"
   ]
  },
  {
   "cell_type": "markdown",
   "id": "1895d5ee",
   "metadata": {},
   "source": [
    "In honor of this, we will rename our dataframe:"
   ]
  },
  {
   "cell_type": "code",
   "execution_count": null,
   "id": "6179fecd",
   "metadata": {},
   "outputs": [],
   "source": [
    "rodents = surveys"
   ]
  },
  {
   "cell_type": "markdown",
   "id": "4c7ccf39",
   "metadata": {},
   "source": [
    "surveys.sample(5)"
   ]
  },
  {
   "cell_type": "markdown",
   "id": "f2d5cf8a",
   "metadata": {},
   "source": [
    "Finally we will save the rodents dataframe to a file:"
   ]
  },
  {
   "cell_type": "code",
   "execution_count": null,
   "id": "3b747016",
   "metadata": {},
   "outputs": [],
   "source": [
    "rodents.to_csv(\"data/rodents.csv\", index=False)"
   ]
  },
  {
   "cell_type": "markdown",
   "id": "a867058e",
   "metadata": {},
   "source": [
    "We can load that dataframe directly in the future."
   ]
  },
  {
   "cell_type": "markdown",
   "id": "996530cc",
   "metadata": {},
   "source": [
    "## Using plotly\n",
    "\n",
    "We've already used plotly.\n",
    "\n",
    "- **Customizable.**\n",
    "- **Interactive.** You can pan and zoom across plots and hover over elements to get additional information about them.\n",
    "\n",
    "Plotly has two main ways of making plots:\n",
    "\n",
    "- plotly.express provides a simplified interface for quickly building and customizing plots\n",
    "- plotly.graph_objects uses a more complex interface to provide more granular control over the exact appearance of a plot\n",
    "\n",
    "We will use plotly.express in this lesson."
   ]
  },
  {
   "cell_type": "markdown",
   "id": "a1f8de82",
   "metadata": {
    "tags": [
     "callout"
    ]
   },
   "source": [
    "## Other plotting libraries\n",
    "\n",
    "The R community has largely coalesced around the gg2plot library for plotting. By contract, Python has a wider variety of commonly used libraries. Some common alternatives include:\n",
    "\n",
    "- altair\n",
    "- bokeh\n",
    "- matplotlib\n",
    "- seaborn"
   ]
  },
  {
   "cell_type": "markdown",
   "id": "6e254b66",
   "metadata": {
    "tags": []
   },
   "source": [
    "## Thinking about plots\n",
    "\n",
    "What numeric data is included in the dataset?\n",
    "What categories of data might we be interested in plotting?\n",
    "\n",
    "\n",
    "For the plots below, we will focus on rodent data. \n",
    "\n",
    "We want to include clear, human-readable labels for the data.\n",
    "Consistent colors and symbols: When creating multiple plots, it is useful to use the same styles to \n",
    "\n",
    "\n",
    "We'll begin by loading and preparing the data we'd like to plot. This will include operations introduced in previous lessons, including reading CSVs into dataframes, creating a date column, merging dataframes, sorting a dataframe, and removing records including null values. "
   ]
  },
  {
   "cell_type": "code",
   "execution_count": null,
   "id": "9a641665",
   "metadata": {},
   "outputs": [],
   "source": [
    "import plotly.express as px\n",
    "\n",
    "px.scatter(surveys, x=\"weight\", y=\"hindfoot_length\")"
   ]
  },
  {
   "cell_type": "markdown",
   "id": "ee346c58",
   "metadata": {},
   "source": [
    "Let's take a quick look at the interactive elements on this plot. When you hover over a plotly plot, a toolbar appears in the upper right corner. Each icon on the toolbar is a widget that allows you to interact with the plot. By default, the toolbar includes the following widgets:\n",
    "\n",
    "- The camera allows you to save the current view as a PNG file\n",
    "- The next four widgets control how click-and-drag affects the plot:\n",
    "    - The magnifying glass allows you to draw a box and zoom\n",
    "    - The crossing arrows allw you to pan\n",
    "    - The dotted box allows you to select data by drawing a box\n",
    "    - The dotted lasso allows you to select data by drawing a shape\n",
    "- The plus box allows you to zoom in\n",
    "- The minus box allows you to zoom out\n",
    "- The crossing arrows autoscale the plot to show all adata\n",
    "- The house resets the view to the original view"
   ]
  },
  {
   "cell_type": "markdown",
   "id": "cba2ce39",
   "metadata": {},
   "source": [
    "The default appearance of the plot has some drawbacks. One is that many of the points overlap, making it difficult to understand how the data is distributed. We can partially address this issue by making the point semitransparent using the opacity keyword argument."
   ]
  },
  {
   "cell_type": "code",
   "execution_count": null,
   "id": "2926a59b",
   "metadata": {},
   "outputs": [],
   "source": [
    "px.scatter(surveys, x=\"weight\", y=\"hindfoot_length\", opacity=0.2)"
   ]
  },
  {
   "cell_type": "markdown",
   "id": "529fde0a",
   "metadata": {},
   "source": [
    "With the points now partially transparent, we can get a better sense of how the data is distributed."
   ]
  },
  {
   "cell_type": "code",
   "execution_count": null,
   "id": "551b096b",
   "metadata": {},
   "outputs": [],
   "source": [
    "px.scatter(surveys, x=\"weight\", y=\"hindfoot_length\", color=\"plot_type\", opacity=0.2)"
   ]
  },
  {
   "cell_type": "code",
   "execution_count": null,
   "id": "529bcf9b",
   "metadata": {},
   "outputs": [],
   "source": [
    "px.scatter(\n",
    "    surveys,\n",
    "    x=\"weight\",\n",
    "    y=\"hindfoot_length\",\n",
    "    color=\"plot_type\",\n",
    "    opacity=0.2,\n",
    "    color_discrete_sequence=px.colors.qualitative.Safe,\n",
    ")"
   ]
  },
  {
   "cell_type": "markdown",
   "id": "0a18905c",
   "metadata": {},
   "source": [
    "## Making a box plot"
   ]
  },
  {
   "cell_type": "code",
   "execution_count": null,
   "id": "883b5738",
   "metadata": {},
   "outputs": [],
   "source": [
    "px.box(surveys, x=\"plot_type\", y=\"hindfoot_length\")"
   ]
  },
  {
   "cell_type": "code",
   "execution_count": null,
   "id": "b7489831",
   "metadata": {},
   "outputs": [],
   "source": [
    "px.box(\n",
    "    surveys,\n",
    "    x=\"plot_type\",\n",
    "    y=\"hindfoot_length\",\n",
    "    color=\"plot_type\",\n",
    "    color_discrete_sequence=px.colors.qualitative.Safe,\n",
    ")"
   ]
  },
  {
   "cell_type": "code",
   "execution_count": null,
   "id": "1f121bc6",
   "metadata": {},
   "outputs": [],
   "source": [
    "px.box(\n",
    "    surveys,\n",
    "    x=\"plot_type\",\n",
    "    y=\"hindfoot_length\",\n",
    "    color=\"plot_type\",\n",
    "    color_discrete_sequence=px.colors.qualitative.Safe,\n",
    "    points=\"all\",\n",
    ")"
   ]
  },
  {
   "cell_type": "markdown",
   "id": "b707be44",
   "metadata": {},
   "source": [
    "To update, we can use the update_traces() method."
   ]
  },
  {
   "cell_type": "code",
   "execution_count": null,
   "id": "825e511e",
   "metadata": {},
   "outputs": [],
   "source": [
    "fig = px.box(\n",
    "    surveys,\n",
    "    x=\"plot_type\",\n",
    "    y=\"hindfoot_length\",\n",
    "    color=\"plot_type\",\n",
    "    color_discrete_sequence=px.colors.qualitative.Safe,\n",
    "    points=\"all\",\n",
    ")\n",
    "fig.update_traces(marker={\"opacity\": 0.2})"
   ]
  },
  {
   "cell_type": "markdown",
   "id": "dde99709",
   "metadata": {},
   "source": [
    "A similar plot is a violin plot. Try changing `px.box` to `px.violin` in the code above."
   ]
  },
  {
   "cell_type": "markdown",
   "id": "8bfa20d7",
   "metadata": {},
   "source": [
    "## Changing labels"
   ]
  },
  {
   "cell_type": "code",
   "execution_count": null,
   "id": "3870f6ac",
   "metadata": {},
   "outputs": [],
   "source": [
    "fig = px.box(\n",
    "    surveys,\n",
    "    x=\"plot_type\",\n",
    "    y=\"hindfoot_length\",\n",
    "    color=\"plot_type\",\n",
    "    color_discrete_sequence=px.colors.qualitative.Safe,\n",
    "    points=\"all\",\n",
    "    title=\"Rodent hindfoot length by plot type\",\n",
    "    labels={\n",
    "        \"hindfoot_length\": \"Hindfoot length (mm)\",\n",
    "        \"plot_type\": \"Plot type\",\n",
    "    }\n",
    ")\n",
    "fig.update_traces(marker={\"opacity\": 0.2})"
   ]
  },
  {
   "cell_type": "markdown",
   "id": "9e1594e3",
   "metadata": {},
   "source": [
    "## Making a bar chart\n",
    "\n",
    "The stacked bar chart allows us to compare the total number of observations per year but obscures how counts of individual genera have varied over time. We can break each category into its own subplot by adding the `facet-col` keyword argument:"
   ]
  },
  {
   "cell_type": "code",
   "execution_count": null,
   "id": "e128b0c7",
   "metadata": {},
   "outputs": [],
   "source": [
    "grouped = rodents.groupby([\"year\", \"genus\"]).count().reset_index()\n",
    "px.bar(\n",
    "    grouped,\n",
    "    x=\"year\",\n",
    "    y=\"weight\",\n",
    "    color=\"genus\",\n",
    "    color_discrete_sequence=px.colors.qualitative.Safe,\n",
    ")"
   ]
  },
  {
   "cell_type": "code",
   "execution_count": null,
   "id": "4c75e79e",
   "metadata": {},
   "outputs": [],
   "source": [
    "px.bar(\n",
    "    grouped,\n",
    "    x=\"year\",\n",
    "    y=\"weight\",\n",
    "    color=\"genus\",\n",
    "    facet_col=\"genus\",\n",
    "    color_discrete_sequence=px.colors.qualitative.Safe,\n",
    ")"
   ]
  },
  {
   "cell_type": "markdown",
   "id": "536b274b-64eb-472e-ae00-ba30d761c310",
   "metadata": {
    "tags": [
     "keypoints"
    ]
   },
   "source": [
    "## Keypoints\n",
    "\n",
    "- Use square brackets to access rows, columns, and specific cells\n",
    "- Use operators like `+`, `-`, and `/` to perform arithmetic on rows and columns\n",
    "- Store the results of calculations in a dataframe by adding a new column or overwriting an existing column\n",
    "- Sort data, rename columns, and get unique values in a dataframe using methods provided by pandas\n",
    "- By default, most dataframe operations return a copy of the original data"
   ]
  }
 ],
 "metadata": {
  "language_info": {
   "name": "python"
  }
 },
 "nbformat": 4,
 "nbformat_minor": 5
}
