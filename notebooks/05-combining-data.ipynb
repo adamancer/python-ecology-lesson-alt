{
 "cells": [
  {
   "cell_type": "markdown",
   "id": "1282882c-d1c8-484d-9f78-4ce03570b3ba",
   "metadata": {},
   "source": [
    "# Combining Dataframes"
   ]
  },
  {
   "cell_type": "markdown",
   "id": "3b1a9fe5-a499-4745-9a33-c371dbd29d15",
   "metadata": {
    "tags": [
     "metadata"
    ]
   },
   "source": [
    "## Metadata\n",
    "\n",
    "- Teaching: 60\n",
    "- Exercises: 0"
   ]
  },
  {
   "cell_type": "markdown",
   "id": "88094ee7-eca3-4057-aa97-57bc4b81d3cb",
   "metadata": {
    "tags": [
     "questions"
    ]
   },
   "source": [
    "## Questions\n",
    "\n",
    "- How do we combine data from multiple sources using pandas?\n",
    "- How do we add data to an existing dataframe?\n",
    "- How do we split and combine data columns?"
   ]
  },
  {
   "cell_type": "markdown",
   "id": "a51f7fc9-97cb-4364-8974-ce8f6fcf6235",
   "metadata": {
    "tags": [
     "objectives"
    ]
   },
   "source": [
    "## Objectives\n",
    "\n",
    "- Use `pd.merge()` to add species info to the survey dataset\n",
    "- Use `pd.concat()` to add additional rows the dataset\n",
    "- Use string methods to combine, split, and modify text columns using the `str` accessor"
   ]
  },
  {
   "cell_type": "markdown",
   "id": "960eb83c-4b55-4c49-b77a-1d84678544ec",
   "metadata": {},
   "source": [
    "Dataframes can be used to organize and group data by common characteristics. Often, we need to combine elements from separate dataframes into one for analysis and visualization. A merge (or join) allows use to combine two dataframes using values common to each. Likewise, we may need to append data collected under different circumstances. In this chapter, we will show how to merge, concatenate, and split data using pandas.\n",
    "\n",
    "## Merging dataframes\n",
    "\n",
    "The survey dataframe we've been using throughout this lesson has a column called species_id. We used this column in the previous lesson to calculate summary statistics about observations of each species. But the species_id is just a two-letter code—what does each code stand for? To find out, we'll now load both the survey dataset and a second dataset containing more detailed information about the various species observed. Read the second dataframe from a file called species.csv:"
   ]
  },
  {
   "cell_type": "code",
   "execution_count": null,
   "id": "e3e47662-f95b-4446-b0ac-bc4ec1c011c1",
   "metadata": {},
   "outputs": [],
   "source": [
    "import pandas as pd\n",
    "\n",
    "surveys = pd.read_csv(\"data/surveys.csv\")\n",
    "species = pd.read_csv(\"data/species.csv\")\n",
    "\n",
    "species"
   ]
  },
  {
   "cell_type": "markdown",
   "id": "b22175f4-d2e1-4bc3-b355-65cb45e95308",
   "metadata": {},
   "source": [
    "We can see that the species dataframe includes a genus, species, and taxon for each species_id. This is much more useful than the species_id included in the original dataframe--how can we add that data to our surveys dataframe? Adding it by hand would be tedious and error prone. Fortunately, pandas provides the `pd.merge()` function to join two dataframes."
   ]
  },
  {
   "cell_type": "markdown",
   "id": "f89b9ab6-b5dc-4803-87a9-682a4bdc0aa2",
   "metadata": {
    "tags": [
     "callout"
    ]
   },
   "source": [
    "## Managing repetitive data\n",
    "\n",
    "Why store species data in a separate table in the first place? Species information is repetitive: Every observation of the same species has the same genus, species, and taxa. Storing it in the original survey table would require including that data in every record, increasing the complexity of the table and increasing the likelihood of errors. Storing that data in a separate table means we only have to enter and validate it once. A tool like pandas then allows us to access that data when we need it."
   ]
  },
  {
   "cell_type": "markdown",
   "id": "67ad47a3-8c24-476b-9949-dbf4cdc438d3",
   "metadata": {},
   "source": [
    "To merge the surveys and species dataframes, we will use the `merge()` method:"
   ]
  },
  {
   "cell_type": "code",
   "execution_count": null,
   "id": "57e61014-b3a5-4fe5-bcda-2596e5be3d47",
   "metadata": {},
   "outputs": [],
   "source": [
    "merged = surveys.merge(species)\n",
    "merged"
   ]
  },
  {
   "cell_type": "markdown",
   "id": "5422605a-67f9-4902-8e41-bf566b72a8ec",
   "metadata": {},
   "source": [
    "Following the merge, the genus, species, and taxa columns have all been added to the survey dataframe. We can now use those columns to filter and summarize our data."
   ]
  },
  {
   "cell_type": "markdown",
   "id": "c9dc9254-683d-422a-822c-ef62549e282f",
   "metadata": {
    "tags": [
     "callout"
    ]
   },
   "source": [
    "### Joins\n",
    "\n",
    "The `pd.merge()` method is equivalent to the JOIN operation in SQL"
   ]
  },
  {
   "cell_type": "markdown",
   "id": "2762b845-5a84-4fe8-97ab-0f4cffcc9bed",
   "metadata": {
    "tags": [
     "challenge"
    ]
   },
   "source": [
    "## Challenge\n",
    "\n",
    "Filter the merged dataframe to show the genus, the species name, and the weight for every individual captured at the site"
   ]
  },
  {
   "cell_type": "code",
   "execution_count": null,
   "id": "2908a4b1-4185-409d-9b1f-a3c40ab4b606",
   "metadata": {},
   "outputs": [],
   "source": [
    "merged[[\"genus\", \"species\", \"weight\"]]"
   ]
  },
  {
   "cell_type": "markdown",
   "id": "e2990156-ba06-44b1-9575-37c2414bc4a4",
   "metadata": {},
   "source": [
    "In the example above, we didn't provide any information about how we wanted to merge the dataframes together, so pandas made an educated guess by looking at the columns in each of the dataframes and merging them on the only column that appeared in both datasets, species_id. For more complex tables, we may want to specify the columns are used for merging. We can do so by passing one or more column names using the *on* keyword argument:"
   ]
  },
  {
   "cell_type": "code",
   "execution_count": null,
   "id": "6e1c7a1c-e31f-4454-869f-000691e64675",
   "metadata": {},
   "outputs": [],
   "source": [
    "pd.merge(surveys, species, on=\"species_id\")"
   ]
  },
  {
   "cell_type": "markdown",
   "id": "e30af5a4-f14e-470a-8b74-e3dfaa418b9b",
   "metadata": {
    "tags": [
     "challenge"
    ]
   },
   "source": [
    "## Challenge\n",
    "\n",
    "Compare the number of rows in the original and merged survey dataframes. How do they differ? Why do you think that might be?\n",
    "\n",
    "**Hint:** Use `pd.unique()` method to look at the species_id column in each dataframe."
   ]
  },
  {
   "cell_type": "code",
   "execution_count": null,
   "id": "1228b886-dd8a-4635-bff6-1882133318d6",
   "metadata": {},
   "outputs": [],
   "source": [
    "pd.unique(surveys[\"species_id\"].sort_values())"
   ]
  },
  {
   "cell_type": "code",
   "execution_count": null,
   "id": "bfda48ef-8438-42ad-8446-d223972588e7",
   "metadata": {},
   "outputs": [],
   "source": [
    "pd.unique(species[\"species_id\"].sort_values())"
   ]
  },
  {
   "cell_type": "markdown",
   "id": "3cd4fa12-4868-4aeb-a58c-b942c32a60d2",
   "metadata": {},
   "source": [
    "The number of rows in the merged dataframe is lower than in the original surveys dataframe. By default, `pd.merge()` performs an **inner join**. This means that a row will only appear in the merged dataframe if the value(s) in the join column(s) appear in both dataframes. Here, observations that did not include a species_id or that included a species_id that was not definedin the species dataframe were dropped.\n",
    "\n",
    "This is not always desirable behavior. Fortunately, pandas supports other kinds of merges:\n",
    "\n",
    "- **Inner:** Include all rows with common values in the join columns. This is the default behavior.\n",
    "- **Left:** Include all rows from the left dataframe. Columns from the right dataframe are populated if a common value exists and set to NaN if not.\n",
    "- **Right:** Include all rows from the right dataframe. Columns from the left dataframe are populated if a common value exists and set to NaN if not.\n",
    "- **Outer:** Include all rows from both dataframes\n",
    "\n",
    "We want to keep all of our observations, so let's do a left join instead. To specify the type of merge, we use the *how* keyword argument:"
   ]
  },
  {
   "cell_type": "code",
   "execution_count": null,
   "id": "7a103274-cb9e-497c-addc-e105aa2eadc7",
   "metadata": {},
   "outputs": [],
   "source": [
    "pd.merge(surveys, species, how=\"left\")"
   ]
  },
  {
   "cell_type": "markdown",
   "id": "a3c09aad-a7b4-49dd-9e31-18fb9de88b58",
   "metadata": {},
   "source": [
    "Now all 35,549 rows appear in the merged dataframe."
   ]
  },
  {
   "cell_type": "markdown",
   "id": "068f0a72-c4ef-4237-801e-4aa17a733cd2",
   "metadata": {},
   "source": [
    "## Appending rows to a dataframe\n",
    "\n",
    "Merges address the case where information related to a set of observations is spread across multiple files. What about when the observations themselves are in more than one file? For a survey like the one we've been looking at in this lesson, we might get a new file once a year with the same columns but a completely new set of observations. How can we add those new observations to our dataframe?\n",
    "\n",
    "We'll simulate this operation by splitting data from two different years, 2001 and 2002, into separate dataframes. We can filter the dataset this using conditionals, as we saw in lesson 3:"
   ]
  },
  {
   "cell_type": "code",
   "execution_count": null,
   "id": "a7d8e2bb-13d3-46a2-9d3a-8127e7e64e9e",
   "metadata": {},
   "outputs": [],
   "source": [
    "surveys_2001 = surveys[surveys[\"year\"] == 2001].copy()\n",
    "surveys_2001"
   ]
  },
  {
   "cell_type": "code",
   "execution_count": null,
   "id": "b34a7b9e-77f5-4cde-866e-c14b40835205",
   "metadata": {},
   "outputs": [],
   "source": [
    "surveys_2002 = surveys[surveys[\"year\"] == 2002].copy()\n",
    "surveys_2002"
   ]
  },
  {
   "cell_type": "markdown",
   "id": "63fd1ad9-e026-4ec0-b829-fc555854963f",
   "metadata": {},
   "source": [
    "We now have two different dataframes with the same columns but different data, one with 1,610 rows, the other with 2,229 rows, for a total of 3,839 records. We can combine them into a new dataframe using `pd.concat()`, which stacks the dataframes vertically (that is, it appends records from the 2002 dataset to the 2001 dataset). This method accepts a list of dataframes and works from left to right (so the leftmost dataframe will be at the top of the new dataframe and the rightmost will be at the bottom). We're only combining two dataframes here but could include more if necessary."
   ]
  },
  {
   "cell_type": "code",
   "execution_count": null,
   "id": "802fd51f-63aa-4d1d-b744-b2160bd4b28d",
   "metadata": {},
   "outputs": [],
   "source": [
    "surveys_2001_2002 = pd.concat([surveys_2001, surveys_2002])\n",
    "surveys_2001_2002"
   ]
  },
  {
   "cell_type": "markdown",
   "id": "e604d43d-83c2-4ba9-8c85-bdcb34a40114",
   "metadata": {},
   "source": [
    "The combined dataframe includes all rows from both dataframes.\n",
    "\n",
    "In some cases, the exact columns may change from year to year even within the same project. For example, researchers may decide to add an additional column to track a new piece of data or to provide a quality check. If a column is present in only one dataset, you can still concatenate the datasets. Any column that does not appear in a given dataset will have the value NaN for those rows in the combined dataframe.\n",
    "\n",
    "To illustrate this, we'll add a column called test to the 2002 survey, then re-run `pd.concat()`:"
   ]
  },
  {
   "cell_type": "code",
   "execution_count": null,
   "id": "0bd5f239-842b-4809-84ad-d18d0a51d36a",
   "metadata": {},
   "outputs": [],
   "source": [
    "surveys_2002[\"test\"] = True\n",
    "\n",
    "surveys_2001_2002 = pd.concat([surveys_2001, surveys_2002])\n",
    "surveys_2001_2002"
   ]
  },
  {
   "cell_type": "markdown",
   "id": "ef04bdcf-9ea4-4ac9-8a43-7a0a501d9bf3",
   "metadata": {},
   "source": [
    "As expected, the test column has a value of NaN for the 2001 data in the combined dataframe.\n",
    "\n",
    "## Combining data in multiple columns\n",
    "\n",
    "Sometimes we want to combine values from two or more columns into a single column. For example, we might want to refer to the species in each record by both its genus and species names. In Python, we use the `+` operator to concatenate (or join) strings, and pandas works the same way: "
   ]
  },
  {
   "cell_type": "code",
   "execution_count": null,
   "id": "7bfb063c-770e-4fb2-a159-22d9b894742b",
   "metadata": {},
   "outputs": [],
   "source": [
    "species[\"genus_species\"] = species[\"genus\"] + \" \" + species[\"species\"]\n",
    "species[\"genus_species\"]"
   ]
  },
  {
   "cell_type": "markdown",
   "id": "0dc64982-9140-45cd-92e7-2c8726fd5537",
   "metadata": {},
   "source": [
    "Note that the `+` operator can also be used to add numeric columns. In Python, the same operator can be used to perform different operations for different data types (but keep reading for an important caveat.)\n",
    "\n",
    "## Combining dates\n",
    "\n",
    "Another common need is to join or split dates. In the ecology dataset, the date of each observation is split across year, month, and day columns. However, pandas has a special data type, `datetime64`, for representing dates that is useful for analyzing time series data. To make use of that functionality, we can concatenate the date columns and convert them to a datetime object using the `pd.to_datetime()` method. The pandas library is doing a lot of work behind the scenes here."
   ]
  },
  {
   "cell_type": "code",
   "execution_count": null,
   "id": "998b8079-9437-48af-a5db-9e03f9badbcc",
   "metadata": {},
   "outputs": [],
   "source": [
    "surveys[\"date\"] = pd.to_datetime(surveys[[\"year\", \"month\", \"day\"]])\n",
    "surveys[\"date\"]"
   ]
  },
  {
   "cell_type": "markdown",
   "id": "bd0f3535-8a47-4320-bfd2-89f358c57137",
   "metadata": {
    "tags": [
     "challenge"
    ]
   },
   "source": [
    "## Challenge\n",
    "\n",
    "pandas allows us to ask specific questions about our data. A key skill is knowing how to translate our scientific questions into a sensible approach (and subsequently visualize and interpret our results).\n",
    "\n",
    "Try using pandas to answer the following questions.\n",
    "\n",
    "1. How many specimens of each sex are there for each year, including those whose sex is unknown?\n",
    "2. What is the average weight of each taxa?\n",
    "3. What are the minimum, maximum and average weight for each species of Rodent?\n",
    "4. What is the average hindfoot length for male and female rodent of each species? Is there a male/female difference?\n",
    "5. What is the average weight of each rodent species over the course of the years? Is there any noticeable trend for any of the species?"
   ]
  },
  {
   "cell_type": "markdown",
   "id": "da6d1982-a750-413b-9166-055935abbf3a",
   "metadata": {
    "tags": [
     "solution"
    ]
   },
   "source": [
    "### Show me the solution to challenge 1\n",
    "\n",
    "How many specimens of each sex are there for each year, including those whose sex is unknown?"
   ]
  },
  {
   "cell_type": "code",
   "execution_count": null,
   "id": "9544df28-bf34-4559-bb75-9cb6b4f3ac86",
   "metadata": {
    "tags": [
     "continue"
    ]
   },
   "outputs": [],
   "source": [
    "# Fill in NaN values in sex with U\n",
    "surveys[\"sex\"] = surveys[\"sex\"].fillna(\"U\")\n",
    "\n",
    "# Count records by sex\n",
    "result = surveys.groupby([\"year\", \"sex\"])[\"record_id\"].count()\n",
    "\n",
    "# Use the option_context context manager to show all rows\n",
    "with pd.option_context(\"display.max_rows\", None):\n",
    "    print(result)"
   ]
  },
  {
   "cell_type": "markdown",
   "id": "7a3dd1e5-374a-49bb-97da-7ba2dbbe05a4",
   "metadata": {
    "tags": [
     "solution"
    ]
   },
   "source": [
    "### Show me the solution to challenge 2\n",
    "\n",
    "What is the average weight of each taxa?"
   ]
  },
  {
   "cell_type": "code",
   "execution_count": null,
   "id": "9cfc3e9e-e00b-4404-9ddc-9f8120cebecd",
   "metadata": {
    "tags": [
     "continue"
    ]
   },
   "outputs": [],
   "source": [
    "# Create the merged dataframe\n",
    "merged = pd.merge(surveys, species, how=\"left\")\n",
    "\n",
    "# Group by taxa\n",
    "grouped = merged.groupby(\"taxa\")\n",
    "\n",
    "# Calculate the min, max, and mean weight\n",
    "grouped[\"weight\"].mean()"
   ]
  },
  {
   "cell_type": "markdown",
   "id": "e9066226-9ec1-49af-82f2-2a78cda7efb7",
   "metadata": {
    "tags": [
     "solution"
    ]
   },
   "source": [
    "### Show me the solution to challenge 3\n",
    "\n",
    "What are the minimum, maximum and average weight for each species of Rodent?"
   ]
  },
  {
   "cell_type": "code",
   "execution_count": null,
   "id": "02461c6e-fa62-4333-8606-a23a29c43bfe",
   "metadata": {
    "tags": [
     "continue"
    ]
   },
   "outputs": [],
   "source": [
    "# Create the merged dataframe\n",
    "merged = pd.merge(surveys, species, how=\"left\")\n",
    "\n",
    "# Limit merged dataframe to rodents\n",
    "rodents = merged[merged[\"taxa\"] == \"Rodent\"]\n",
    "\n",
    "# Group rodents by species\n",
    "grouped = rodents.groupby(\"species_id\")\n",
    "\n",
    "# Calculate the min, max, and mean weight\n",
    "grouped.agg({\"weight\": [\"min\", \"max\", \"mean\"]})"
   ]
  },
  {
   "cell_type": "markdown",
   "id": "f0cb5933-04cb-4a45-8f85-6cb4098ba45b",
   "metadata": {
    "tags": [
     "solution"
    ]
   },
   "source": [
    "### Show me the solution to challenge 4\n",
    "\n",
    "What is the average hindfoot length for male and female rodent of each species? Is there a male/female difference?"
   ]
  },
  {
   "cell_type": "code",
   "execution_count": null,
   "id": "11b7390e-0ff8-40d4-b70d-e1bd6f8e62e3",
   "metadata": {
    "tags": [
     "continue"
    ]
   },
   "outputs": [],
   "source": [
    "# Create the merged dataframe\n",
    "merged = pd.merge(surveys, species, how=\"left\")\n",
    "\n",
    "# Limit merged dataframe to rodents\n",
    "rodents = merged[merged[\"taxa\"] == \"Rodent\"]\n",
    "\n",
    "# Group rodents by species and sex\n",
    "grouped = rodents.groupby([\"species_id\", \"sex\"])\n",
    "\n",
    "# Calculate the mean hindfoot length, plus count and standard deviation\n",
    "# to better assess the question\n",
    "with pd.option_context(\"display.max_rows\", None):\n",
    "    print(grouped[\"hindfoot_length\"].agg([\"count\", \"mean\", \"std\"]))"
   ]
  },
  {
   "cell_type": "markdown",
   "id": "39f78952-e58a-40d0-81cf-9ac93fc6eae7",
   "metadata": {
    "tags": [
     "solution"
    ]
   },
   "source": [
    "### Show me the solution to challenge 5\n",
    "\n",
    "What is the average weight of each rodent species over the course of the years? Is there any noticeable trend for any of the species?"
   ]
  },
  {
   "cell_type": "code",
   "execution_count": null,
   "id": "a40c66b4-245d-4546-a57d-772814ec2f02",
   "metadata": {
    "tags": [
     "continue"
    ]
   },
   "outputs": [],
   "source": [
    "# Create the merged dataframe\n",
    "merged = pd.merge(surveys, species, how=\"left\")\n",
    "\n",
    "# Limit merged dataframe to rodents\n",
    "rodents = merged[merged[\"taxa\"] == \"Rodent\"]\n",
    "\n",
    "# Group rodents by species and year\n",
    "grouped = rodents.groupby([\"species_id\", \"year\"])\n",
    "\n",
    "# Calculate the mean weight by year\n",
    "result = grouped[\"weight\"].mean()\n",
    "\n",
    "# Use the option_context context manager to show all rows\n",
    "with pd.option_context(\"display.max_rows\", None):\n",
    "    print(result)"
   ]
  },
  {
   "cell_type": "markdown",
   "id": "5ee799c7",
   "metadata": {
    "tags": [
     "keypoints"
    ]
   },
   "source": [
    "## Keypoints\n",
    "\n",
    "- Combine two dataframes on one or more common values using `pd.merge()`\n",
    "- Append rows from one dataframe to another using `pd.concat()`\n",
    "- Combine multiple text columns into one using the `+` operator\n",
    "- Use the `str` accessor to use string methods like `split()` and `zfill()` on text columns\n",
    "- Convert date strings to datetime objects using `pd.to_datetime()`"
   ]
  }
 ],
 "metadata": {
  "language_info": {
   "name": "python"
  }
 },
 "nbformat": 4,
 "nbformat_minor": 5
}