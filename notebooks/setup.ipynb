{
 "cells": [
  {
   "cell_type": "markdown",
   "id": "c8a755f8-0d31-468c-8e99-26b2466ea065",
   "metadata": {},
   "source": [
    "# Setup\n",
    "\n",
    "This lesson uses JupyterLab and pandas to analyze and visualize data from an ecology dataset. It was adapted (and currently includes huge chunks of text lifted directly from) [Data Management with SQL for Ecologists](https://datacarpentry.org/sql-ecology-lesson/) and covers similar material to [Data Analysis and Visualization in Python for Ecologists](https://datacarpentry.org/python-ecology-lesson/). The idea was to create parallel lessons for SQL and Python for use by the Smithsonian Carpentries.\n",
    "\n",
    "This lesson is designed to use JupyterLab, an interactive development environment widely used for doing data science with Python. **The rest of this page provides instructions for setting up the software and data needed to complete this lesson. Please complete the setup prior to your scheduled lesson.**\n",
    "\n",
    "## Setup\n",
    "\n",
    "We will use a program called Miniconda to set up JupyterLab, so first we need to download and install [Miniconda (64 bit)](https://docs.conda.io/en/latest/miniconda.html#latest-miniconda-installer-links). We recommend using the following installers:\n",
    "\n",
    "- **Windows**: Miniconda3 Windows 64-bit\n",
    "- **macOS**:\n",
    "    - **Apple M1:** Miniconda3 macOS Apple M1 64-bit pkg\n",
    "    - **Intel:** Miniconda3 macOS Intel x86 64-bit pkg\n",
    "\n",
    "### Using the command-line interface\n",
    "\n",
    "A command-line interface, or CLI, is an application that can run commands supplied as text. Examples of command-line interfaces include the Windows command prompt and Unix shells, including bash. We'll be using the CLI to install and run JupyterLab.\n",
    "\n",
    "Each operating system has one or more command-line interfaces available. We recommend using the following applications for this lesson:\n",
    "\n",
    "- **Windows:** Use the Anaconda Prompt, which was installed as part of Miniconda. You can find it by searching for Anaconda Prompt in the search box on the Windows toolbar.\n",
    "- **macOS:** Use the Terminal. You can find it in the Applications/Utilities folder or by searching for Terminal using Spotlight.\n",
    "\n",
    "The commands given below may not work if a different application is used, so we'd strongly encourage you to use the recommended ones."
   ]
  },
  {
   "cell_type": "markdown",
   "id": "f709cb03-8f8e-4b96-81fe-848e65506e11",
   "metadata": {
    "tags": [
     "callout"
    ]
   },
   "source": [
    "#### Running commands\n",
    "\n",
    "To run any of the commands presented here, copy-paste them into the CLI, then press enter to run the command."
   ]
  },
  {
   "cell_type": "markdown",
   "id": "0d1d8246-4949-4249-bf17-ee2b26fbc57c",
   "metadata": {},
   "source": [
    "### Installing JupyterLab\n",
    "\n",
    "Once the command-line interface is open, run the following command to install the software needed for this course:\n",
    "\n",
    "```\n",
    "conda create -c conda-forge --yes --name python-ecology-lesson altair \\\\\n",
    "  jupyterlab pandas\n",
    "```"
   ]
  },
  {
   "cell_type": "markdown",
   "id": "de5f5a8c-3ffb-41c9-ad47-85dee4c0897a",
   "metadata": {},
   "source": [
    "### Downloading data to the lesson folder\n",
    "\n",
    "Next we'll create the lesson folder and download the data needed for the lesson: \n",
    "\n",
    "1. Create a folder called **python-ecology-lesson** on your desktop\n",
    "2. Create a folder called **data** inside the folder created in step 1\n",
    "3. Download the following files into the data folder:\n",
    "    - surveys.csv: https://figshare.com/ndownloader/files/10717177\n",
    "    - species.csv: https://figshare.com/ndownloader/files/3299483\n",
    "\n",
    "Alternatively, we can run the following commands in the command prompt to create the lesson folders and download the necessary data:\n",
    "\n",
    "```\n",
    "cd ~/Desktop\n",
    "mkdir python-ecology-lesson/data\n",
    "cd python-ecology-lesson/data\n",
    "wget -O surveys.csv https://figshare.com/ndownloader/files/10717177\n",
    "wget -O species.csv https://figshare.com/ndownloader/files/3299483\n",
    "```"
   ]
  },
  {
   "cell_type": "markdown",
   "id": "3430d70c-628f-4220-b86f-d5bd476e42b8",
   "metadata": {},
   "source": [
    "## Running JupyterLab\n",
    "\n",
    "Once JupyterLab has been installed, we can run it by opening the command-line interface and running the following commands:\n",
    "\n",
    "```\n",
    "conda activate python-ecology-lesson\n",
    "cd ~/Desktop/python-ecology-lesson\n",
    "jupyter-lab\n",
    "```\n",
    "\n",
    "JupyterLab should now open in a new browser window. "
   ]
  },
  {
   "cell_type": "markdown",
   "id": "115d9d58-bb25-4371-94c5-6f5070713138",
   "metadata": {
    "tags": [
     "callout"
    ]
   },
   "source": [
    "### Test your installation\n",
    "\n",
    "Try running this command before the scheduled lesson -- does JupyterLab appear as expected? "
   ]
  }
 ],
 "metadata": {
  "kernelspec": {
   "display_name": "Python 3 (ipykernel)",
   "language": "python",
   "name": "python3"
  },
  "language_info": {
   "codemirror_mode": {
    "name": "ipython",
    "version": 3
   },
   "file_extension": ".py",
   "mimetype": "text/x-python",
   "name": "python",
   "nbconvert_exporter": "python",
   "pygments_lexer": "ipython3",
   "version": "3.10.5"
  }
 },
 "nbformat": 4,
 "nbformat_minor": 5
}
