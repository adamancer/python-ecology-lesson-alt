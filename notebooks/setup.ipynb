{
 "cells": [
  {
   "cell_type": "markdown",
   "id": "c8a755f8-0d31-468c-8e99-26b2466ea065",
   "metadata": {},
   "source": [
    "# Setup\n",
    "\n",
    "This lesson uses Python to analyze and visualize data from an ecology dataset. It was adapted (and currently includes huge chunks of text lifted directly from) [Data Management with SQL for Ecologists](https://datacarpentry.org/sql-ecology-lesson/) and covers similar material to [Data Analysis and Visualization in Python for Ecologists](https://datacarpentry.org/python-ecology-lesson/). The idea was to create parallel lessons for SQL and Python for use by the Smithsonian Carpentries.\n",
    "\n",
    "This lesson is designed to use Jupyter notebooks, an interactive development environment widely used for doing data science with Python. **The rest of this page provides instructions for setting up the software and data needed to complete this lesson. Please complete setup prior to your scheduled lesson.**\n",
    "\n",
    "## Setup\n",
    "\n",
    "This lesson requires two pieces of software: Visual Studio Code and Miniforge.\n",
    "\n",
    "### Visual Studio Code\n",
    "\n",
    "Visual Studio Code, also known as VS Code, is a code editor developed by Microsoft.\n",
    "\n",
    "1. Download the [VS Code installer](https://code.visualstudio.com/download)\n",
    "2. Run the installer\n",
    "\n",
    "### Miniforge\n",
    "\n",
    "Miniforge is a package manager used to manage software related to Python. To install:\n",
    "\n",
    "1. Download the Miniforge installer for your system from [conda-forge](https://conda-forge.org/download/)\n",
    "    - **Windows:** Choose the User Installer version\n",
    "2. Run the installer"
   ]
  },
  {
   "cell_type": "markdown",
   "id": "1304ae18",
   "metadata": {
    "tags": [
     "callout"
    ]
   },
   "source": [
    "#### Anaconda\n",
    "\n",
    "You may already be familiar with Anaconda, which includes similar package management software as Miniforge and a whole lot more. We **strongly recommend** sticking to the installation instructions and software presented here for this training. The Anaconda distribution includes additional programs that may affect the output of some of the code presented in this lesson, which can be confusing for people new to Python. "
   ]
  },
  {
   "cell_type": "markdown",
   "id": "5b73c831",
   "metadata": {},
   "source": [
    "### Setting up the Python environment\n",
    "\n",
    "Once Miniforge is installed, you're ready to set up the Python environment. You'll need to use a command-line interface, or CLI, to do so. A CLI is an application that runs commands that are provided as text. Examples of command-line interfaces include the Windows command prompt and Unix shells, including bash. We'll be using the CLI to install and run JupyterLab.\n",
    "\n",
    "Each operating system has one or more command-line interfaces available. We recommend using the following applications for this lesson:\n",
    "\n",
    "- **Windows:** Use the Miniforge Prompt, which was installed as part of Miniforge. You can find it by searching for Miniforge Prompt in the search box on the Windows toolbar.\n",
    "- **macOS:** Use the Terminal. You can find it in the Applications/Utilities folder or by searching for Terminal using Spotlight.\n",
    "\n",
    "Type or copy the following command into the CLI to set up the environment:\n"
   ]
  },
  {
   "cell_type": "markdown",
   "id": "d5d4710d",
   "metadata": {
    "vscode": {
     "languageId": "shellscript"
    }
   },
   "source": [
    "```\n",
    "mamba create --name python-ecology-lesson ipykernel pandas plotly jupyterlab\n",
    "```"
   ]
  },
  {
   "cell_type": "markdown",
   "id": "fb8fd3dd-ed02-43b6-917d-93bfc0956f8c",
   "metadata": {},
   "source": [
    "### Downloading data to the lesson folder\n",
    "\n",
    "This lesson uses specific data files from the [Portal Project Teaching Database](https://figshare.com/articles/Portal_Project_Teaching_Database/1314459). Here, we'll create the lesson folder and download the files we need for the lesson. \n",
    "\n",
    "1. Create a folder called **python-ecology-lesson** on your desktop\n",
    "2. Create a folder called **data** inside the folder from step 1\n",
    "3. Download the following files into the data folder:\n",
    "    - surveys.csv: https://figshare.com/ndownloader/files/10717177\n",
    "    - species.csv: https://figshare.com/ndownloader/files/3299483\n",
    "    - plots.csv: https://figshare.com/ndownloader/files/3299474"
   ]
  },
  {
   "cell_type": "markdown",
   "id": "3430d70c-628f-4220-b86f-d5bd476e42b8",
   "metadata": {},
   "source": [
    "## Using VS Code\n",
    "\n",
    "Find and open VS Code using the search interface in your operating system.\n",
    "\n",
    "1. Click File > Open Folder\n",
    "2. Select the **python-ecology-lesson** folder on your desktop\n",
    "\n",
    "The contents of the folder should now appear in the left sidebar of the VS Code window.\n",
    "\n",
    "Your instructor will explain how to work with VS Code as part of the lesson."
   ]
  }
 ],
 "metadata": {
  "kernelspec": {
   "display_name": "py-lesson-dev",
   "language": "python",
   "name": "python3"
  },
  "language_info": {
   "codemirror_mode": {
    "name": "ipython",
    "version": 3
   },
   "file_extension": ".py",
   "mimetype": "text/x-python",
   "name": "python",
   "nbconvert_exporter": "python",
   "pygments_lexer": "ipython3",
   "version": "3.9.23"
  }
 },
 "nbformat": 4,
 "nbformat_minor": 5
}
