{
 "cells": [
  {
   "cell_type": "markdown",
   "id": "9926504e-1e10-4951-8749-4ec9a03b0026",
   "metadata": {},
   "source": [
    "# Aggregating and Sorting Data"
   ]
  },
  {
   "cell_type": "markdown",
   "id": "c1b35863-4194-41ef-83dd-e1daf61a8a7e",
   "metadata": {
    "tags": [
     "metadata"
    ]
   },
   "source": [
    "## Metadata\n",
    "\n",
    "- Teaching: 60\n",
    "- Exercises: 0"
   ]
  },
  {
   "cell_type": "markdown",
   "id": "53b2b12b-1cb7-46b3-9fde-691c842f231e",
   "metadata": {
    "tags": [
     "questions"
    ]
   },
   "source": [
    "## Questions\n",
    "\n",
    "- How do we calculate summary statistics?\n",
    "- How do we group data?\n",
    "- How do null values affect calculations?"
   ]
  },
  {
   "cell_type": "markdown",
   "id": "ed374ec6-219e-4a8b-892d-bf832c26f523",
   "metadata": {
    "tags": [
     "objectives"
    ]
   },
   "source": [
    "## Objectives\n",
    "\n",
    "- Introduce aggregation calculations in pandas\n",
    "- Introduce grouping in pandas\n",
    "- Learn about how pandas handles null values"
   ]
  },
  {
   "cell_type": "markdown",
   "id": "6f0c07fc-be55-45ef-b725-ae9d4335d566",
   "metadata": {},
   "source": [
    "As always, we'll begin by importing pandas and reading our CSV:"
   ]
  },
  {
   "cell_type": "code",
   "execution_count": null,
   "id": "6e254b66",
   "metadata": {},
   "outputs": [],
   "source": [
    "import pandas as pd\n",
    "\n",
    "surveys = pd.read_csv(\"data/surveys.csv\")"
   ]
  },
  {
   "cell_type": "markdown",
   "id": "7768db99-c76a-4b7c-bd00-77877115561e",
   "metadata": {},
   "source": [
    "## Aggregating data\n",
    "\n",
    "Aggregation allows us to describe the data in our dataframe by calculating totals (like the number of records) and statistics (like the mean value of a column). pandas allows us to run these calculations on dataframes or subsets.\n",
    "\n",
    "Suppose we need to know how many records are in our dataset. We've already seen that we can use the `info()` method to get high-level about the dataset, including the number of entries. What if just wanted the number of rows? One approach is to use the built-in function `len()`, which is used to calculate the number of items in an object (for example, the number of characters in a string or the number of items in a list). When used on a dataframe, `len()` returns the number of rows:"
   ]
  },
  {
   "cell_type": "code",
   "execution_count": null,
   "id": "de1be4ac-92f8-4912-9c07-87b4719d34cb",
   "metadata": {},
   "outputs": [],
   "source": [
    "len(surveys)"
   ]
  },
  {
   "cell_type": "markdown",
   "id": "37af9b74-8375-4079-9db7-fd954014493d",
   "metadata": {},
   "source": [
    "pandas provides a suite of aggregation methods that go beyond this simple case. For example, we can count the number of non-NaN values in each column using `count()`:"
   ]
  },
  {
   "cell_type": "code",
   "execution_count": null,
   "id": "d77d63b5-b1a9-422d-a410-7878e090a6a4",
   "metadata": {},
   "outputs": [],
   "source": [
    "surveys.count()"
   ]
  },
  {
   "cell_type": "markdown",
   "id": "25ec2c67-b0bf-4d34-8d1d-d7a06df68264",
   "metadata": {},
   "source": [
    "Or we can find out the total weight of all individuals in grams using `sum()`:"
   ]
  },
  {
   "cell_type": "code",
   "execution_count": null,
   "id": "75f484af-a86d-43b8-89a2-d91c9e3cbeee",
   "metadata": {},
   "outputs": [],
   "source": [
    "surveys[\"weight\"].sum()"
   ]
  },
  {
   "cell_type": "markdown",
   "id": "78d08c48-592b-4d52-9ff3-4c2766b61ab6",
   "metadata": {},
   "source": [
    "Other aggregation methods supported by pandas include `min()`, `max()`, and `mean()`. These methods all ignore NaNs, so missing data does not affect these calculations. "
   ]
  },
  {
   "cell_type": "markdown",
   "id": "1996bcb1-1377-4af7-9b3d-b1cc5cef4177",
   "metadata": {
    "tags": [
     "challenge"
    ]
   },
   "source": [
    "## Challenge\n",
    "\n",
    "Calculate the total weight, average weight, minimum and maximum weights for all animals caught over the duration of the survey. Can you modify your code so that it outputs these values only for weights between 5 and 10 grams?"
   ]
  },
  {
   "cell_type": "code",
   "execution_count": null,
   "id": "ff3f911c-0891-497b-95e7-7f46ae9387b3",
   "metadata": {},
   "outputs": [],
   "source": [
    "# Create a subset of only the animals between 5 and 10 grams\n",
    "weights = surveys[(surveys[\"weight\"] > 5) & (surveys[\"weight\"] < 10)][\"weight\"]\n",
    "\n",
    "# Display aggregation calculations using a dict\n",
    "{\n",
    "    \"sum\": weights.sum(),\n",
    "    \"mean\": weights.mean(),\n",
    "    \"min\": weights.min(),\n",
    "    \"max\": weights.max(),\n",
    "}"
   ]
  },
  {
   "cell_type": "markdown",
   "id": "1b664c7b-0ebd-416d-a58b-1ade6420ab07",
   "metadata": {},
   "source": [
    "To quickly generate summary statistics, we can use the `describe()` method instead of calling each aggregation method separately. When we use this method on a dataframe, it calculates stats for all columns with numeric data:"
   ]
  },
  {
   "cell_type": "code",
   "execution_count": null,
   "id": "fa44a18c-d89d-465a-9a08-01d65ca21e58",
   "metadata": {},
   "outputs": [],
   "source": [
    "surveys.describe()"
   ]
  },
  {
   "cell_type": "markdown",
   "id": "0acb1c00-269c-495d-8450-3a91c62f5e1a",
   "metadata": {},
   "source": [
    "You can see that `describe()` isn't picky: It includes both ID and date columns in its results. Notice also that counts differ in between columns. This is because `count()` only counts non-NaN rows.\n",
    "\n",
    "If desired, we can also describe a single column at a time:"
   ]
  },
  {
   "cell_type": "code",
   "execution_count": null,
   "id": "b3a41913-c2c6-4d39-8ce9-30abcc91d47c",
   "metadata": {},
   "outputs": [],
   "source": [
    "surveys[\"weight\"].describe()"
   ]
  },
  {
   "cell_type": "markdown",
   "id": "921196e1-1f46-463c-b67d-f4c6e061b478",
   "metadata": {},
   "source": [
    "If we need more control over the output (for example, if we want to calculate the total weight of all animals, as in the challenge above), pandas provides the `agg()` method, which allows us to specify methods by column. The argument passed to this method is a `dict`. Each key must be a column name and each value a list of the names of aggregation methods. To calculate the total weight, mean weight, and mean hindfoot length of all records in the survey, we can use:"
   ]
  },
  {
   "cell_type": "code",
   "execution_count": null,
   "id": "11383a9e-c9da-4289-a7df-cddc4df65963",
   "metadata": {},
   "outputs": [],
   "source": [
    "surveys.agg({\"weight\": [\"sum\", \"mean\"], \"hindfoot_length\": [\"mean\"]})"
   ]
  },
  {
   "cell_type": "markdown",
   "id": "1509ae38-c08c-4cf8-b4d9-29268419a08c",
   "metadata": {},
   "source": [
    "## Grouping data\n",
    "\n",
    "Now, let's find out how many individuals were counted for each species. We do this using `groupby()`, which creates an object similar to a dataframe where rows are grouped by the data in one or more columns. To group by species_id, use:"
   ]
  },
  {
   "cell_type": "code",
   "execution_count": null,
   "id": "74eae36c-6940-4d30-bfe6-8c0240c7968e",
   "metadata": {},
   "outputs": [],
   "source": [
    "grouped = surveys.groupby(\"species_id\")"
   ]
  },
  {
   "cell_type": "markdown",
   "id": "e902cd6d-e7de-4e3f-a367-93785743a621",
   "metadata": {},
   "source": [
    "When we aggregate grouped data, pandas makes separate calculations for each member of the group. In the example below, we'll calculate the number of times each species appears in the dataset. Rather than outputting the full dataframe, we'll limit the count to a single column. Because count ignores NaN cells, it's good practice to use a column that does not contain nulls. Record ID fields are a often a good choice, but any field that is populated for every row will work."
   ]
  },
  {
   "cell_type": "code",
   "execution_count": null,
   "id": "a37e7d11-f8da-4e84-838c-3cf3d14065e4",
   "metadata": {},
   "outputs": [],
   "source": [
    "grouped[\"species_id\"].count()"
   ]
  },
  {
   "cell_type": "markdown",
   "id": "13ef24f3-706d-42c6-9c7b-3cb458aef513",
   "metadata": {},
   "source": [
    "To group by multiple columns, we can pass a list to `groupby()`:"
   ]
  },
  {
   "cell_type": "code",
   "execution_count": null,
   "id": "7458f599-6f64-42b1-a368-42247f2f8e3d",
   "metadata": {},
   "outputs": [],
   "source": [
    "surveys.groupby([\"species_id\", \"year\"])[\"record_id\"].count()"
   ]
  },
  {
   "cell_type": "markdown",
   "id": "99861ee4-5cd4-4f90-b57f-b0af060f1735",
   "metadata": {
    "tags": [
     "challenge"
    ]
   },
   "source": [
    "## Challenge\n",
    "\n",
    "Write statements to answer the following questions:\n",
    "\n",
    "1. How many individuals were counted in each year in total?\n",
    "2. How many were counted each year, for each different species?\n",
    "3. What was the average weight of each species in each year?\n",
    "4. How many individuals were counted for each species that was observed more than 10 times?\n",
    "\n",
    "Can you get the answer to both 2 and 3 in a single query?"
   ]
  },
  {
   "cell_type": "markdown",
   "id": "61d6d29e-67ab-4fb9-880a-be08bc16d3ae",
   "metadata": {
    "tags": [
     "solution"
    ]
   },
   "source": [
    "### Show me the solution to challenge 1\n",
    "\n",
    "How many individuals were counted in each year in total?"
   ]
  },
  {
   "cell_type": "code",
   "execution_count": null,
   "id": "69a4fe8b-6581-4e41-bb5b-2c32687604c5",
   "metadata": {
    "tags": [
     "continue"
    ]
   },
   "outputs": [],
   "source": [
    "# Individual counts per year\n",
    "surveys.groupby(\"year\")[\"record_id\"].count()"
   ]
  },
  {
   "cell_type": "markdown",
   "id": "e7b4b4ce-9701-4847-8a12-97ee4115b8bd",
   "metadata": {
    "tags": [
     "solution"
    ]
   },
   "source": [
    "### Show me the solution to challenge 2\n",
    "\n",
    "How many individuals were counted each year for each different species?"
   ]
  },
  {
   "cell_type": "code",
   "execution_count": null,
   "id": "c660bda5-bbc0-4bc1-92e9-60c0917fe6d6",
   "metadata": {
    "tags": [
     "continue"
    ]
   },
   "outputs": [],
   "source": [
    "# Individual counts by species and year\n",
    "result = surveys.groupby([\"year\", \"species_id\"])[\"record_id\"].count()\n",
    "\n",
    "# Use the option_context context manager to show all rows\n",
    "with pd.option_context(\"display.max_rows\", None):\n",
    "    print(result)"
   ]
  },
  {
   "cell_type": "markdown",
   "id": "745c1fdf-8704-4e3f-af8a-7a205482d22e",
   "metadata": {
    "tags": [
     "solution"
    ]
   },
   "source": [
    "### Show me the solution to challenge 3\n",
    "\n",
    "What was the average weight of each species in each year?"
   ]
  },
  {
   "cell_type": "code",
   "execution_count": null,
   "id": "871f2d1d-0e71-43c5-aa1b-a61ef3e74d0f",
   "metadata": {
    "tags": [
     "continue"
    ]
   },
   "outputs": [],
   "source": [
    "# Mean weight by species and year\n",
    "result = surveys.groupby([\"year\", \"species_id\"])[\"weight\"].mean()\n",
    "\n",
    "# Use the option_context context manager to show all rows\n",
    "with pd.option_context(\"display.max_rows\", None):\n",
    "    print(result)"
   ]
  },
  {
   "cell_type": "markdown",
   "id": "4c0ea4e1-d5c5-48c6-8fc6-4a131b0ba216",
   "metadata": {
    "tags": [
     "solution"
    ]
   },
   "source": [
    "### Show me the solution to challenge 4\n",
    "\n",
    "How many individuals were counted for each species that was observed more than 10 times?"
   ]
  },
  {
   "cell_type": "code",
   "execution_count": null,
   "id": "94deaee9-e282-4d21-be1d-5a2f9100c6ca",
   "metadata": {
    "tags": [
     "continue"
    ]
   },
   "outputs": [],
   "source": [
    "# Counts by species that appear more than 10 times\n",
    "species = surveys.groupby(\"species_id\")[\"record_id\"].count()\n",
    "species[species > 10]"
   ]
  },
  {
   "cell_type": "markdown",
   "id": "fa2273fa-cf16-4e69-a0e9-2f359ac794ac",
   "metadata": {
    "tags": [
     "solution"
    ]
   },
   "source": [
    "### Show me the solution to challenges 2 and 3 combined\n",
    "\n",
    "Calculate the number of individuals observed and the average weight for each species in each year.\n",
    "\n",
    "Note that weight contains NaNs, so counts for record_id and weight differ."
   ]
  },
  {
   "cell_type": "code",
   "execution_count": null,
   "id": "b58cd34a-e3e7-467f-8741-72151cc83ca5",
   "metadata": {
    "tags": [
     "continue"
    ]
   },
   "outputs": [],
   "source": [
    "# Counts and mean weight by species and year\n",
    "surveys.groupby([\"year\", \"species_id\"]).agg(\n",
    "    {\"record_id\": \"count\", \"weight\": [\"count\", \"mean\"]}\n",
    ")"
   ]
  },
  {
   "cell_type": "markdown",
   "id": "4c16dd7d-41fb-4131-a457-38c15de9bb5c",
   "metadata": {},
   "source": [
    "## Handling missing data\n",
    "\n",
    "As we've discussed, some columns in the surveys dataframe have the value NaN instead of text or numbers. NaN, short for \"not a number,\" is a special type of float used by pandas to represent missing data. When reading from a CSV, as we have done throughout this lesson, pandas interprets certains values as NaN. NaNs are excluded from groups and most aggregation calculations in pandas, including counts."
   ]
  },
  {
   "cell_type": "markdown",
   "id": "63f7be05",
   "metadata": {
    "tags": [
     "callout"
    ]
   },
   "source": [
    "## Defaults\n",
    "\n",
    "See *na_values* in the [pd.read_csv() documentation](https://pandas.pydata.org/pandas-docs/stable/reference/api/pandas.read_csv.html) for the values that pandas interprets as NaN by default."
   ]
  },
  {
   "cell_type": "markdown",
   "id": "d743496c",
   "metadata": {},
   "source": [
    "When analyzing a dataset, it is critical to understand how missing data is represented. Failing to do so may introduce errors into the analysis. The ecology dataset used in this lesson uses empty cells to represent missing data, but other disciplines have different conventions. For example, some geographic datasets use -9999 to represent null values. Failure to convert such values to NaN will result in significant errors on any calculations performed on that dataset.\n",
    "\n",
    "In some cases, it can be useful to fill in cells containing NaN with a non-null value. For example, the `groupby()` method excludes NaN cells. When looking at sex, the following code counts only those cells with either F (female) or M (male):"
   ]
  },
  {
   "cell_type": "code",
   "execution_count": null,
   "id": "6c9883eb-8db7-4873-ac5d-2561a9f1fd8a",
   "metadata": {},
   "outputs": [],
   "source": [
    "surveys.groupby(\"sex\")[\"record_id\"].count()"
   ]
  },
  {
   "cell_type": "markdown",
   "id": "fc7e05da-cebd-4ed5-9849-0c18b8000d5b",
   "metadata": {
    "tags": []
   },
   "source": [
    "But not all records specify a sex. To include records where sex was not specified, we can use the `fillna()` method on the sex column. This method replaces each NaN with the first argument passed to the function call. To replace all NaN values in sex with \"U\", use:"
   ]
  },
  {
   "cell_type": "code",
   "execution_count": null,
   "id": "af4095eb-c054-4963-b2a5-6aa23867a62f",
   "metadata": {},
   "outputs": [],
   "source": [
    "surveys[\"sex\"] = surveys[\"sex\"].fillna(\"U\")"
   ]
  },
  {
   "cell_type": "markdown",
   "id": "0015a5d5-beef-4c64-8bcf-5e899a0dac2d",
   "metadata": {
    "tags": []
   },
   "source": [
    "The calculation now includes all records in the dataframe:"
   ]
  },
  {
   "cell_type": "code",
   "execution_count": null,
   "id": "aaf6aa61-1d22-43de-b1a4-32ab5730740e",
   "metadata": {},
   "outputs": [],
   "source": [
    "surveys.groupby(\"sex\")[\"record_id\"].count()"
   ]
  },
  {
   "cell_type": "markdown",
   "id": "ccab95ed-4aea-4785-96ac-f6a2fbe42e8c",
   "metadata": {},
   "source": [
    "In other cases, we may want to ignore rows that contain NaNs. This can be done using `dropna()`:"
   ]
  },
  {
   "cell_type": "code",
   "execution_count": null,
   "id": "a9f74239-03e4-462c-ad0b-77fdd4dfb755",
   "metadata": {},
   "outputs": [],
   "source": [
    "surveys = surveys.dropna()"
   ]
  },
  {
   "cell_type": "markdown",
   "id": "a1a0b1bc-8ff0-4b78-a007-d23d020677db",
   "metadata": {},
   "source": [
    "This method returns a copy of the dataframe containing only those rows that have valid data in every field."
   ]
  },
  {
   "cell_type": "markdown",
   "id": "9da7d6b3",
   "metadata": {},
   "source": [
    "## Visualizing groups of data\n",
    "\n",
    "Grouping data is a common operation when visualizing data."
   ]
  },
  {
   "cell_type": "code",
   "execution_count": null,
   "id": "061091ab",
   "metadata": {},
   "outputs": [],
   "source": [
    "import plotly.express as px\n",
    "\n",
    "fig = px.scatter(surveys, x=\"weight\", y=\"hindfoot_length\", color=\"species_id\")\n",
    "fig.show()"
   ]
  },
  {
   "cell_type": "code",
   "execution_count": null,
   "id": "242aea72",
   "metadata": {},
   "outputs": [],
   "source": [
    "surveys = surveys.sort_values(\"species_id\")\n",
    "fig = px.scatter(surveys, x=\"weight\", y=\"hindfoot_length\", color=\"species_id\")\n",
    "fig.show()"
   ]
  },
  {
   "cell_type": "code",
   "execution_count": null,
   "id": "ec28bfaa",
   "metadata": {},
   "outputs": [],
   "source": [
    "fig = px.box(surveys, x=\"species_id\", y=\"weight\", color=\"species_id\")\n",
    "fig.show()"
   ]
  },
  {
   "cell_type": "markdown",
   "id": "b99d157f-97a7-49f4-95f8-1c0a2b85ad57",
   "metadata": {
    "tags": [
     "keypoints"
    ]
   },
   "source": [
    "## Keypoints\n",
    "\n",
    "- Calculate individual summary statistics using dataframe methods like `mean()`, `max()`, and `min()`\n",
    "- Calculate multiple summary statistics at once using the dataframe methods `describe()` and `agg()`\n",
    "- Group data by one or more columns using the `groupby()` method\n",
    "- pandas uses NaN to represent missing data in a dataframe\n",
    "- Failing to consider how missing data is interpreted in a dataset can introduce errors into calculations"
   ]
  }
 ],
 "metadata": {
  "language_info": {
   "name": "python"
  }
 },
 "nbformat": 4,
 "nbformat_minor": 5
}