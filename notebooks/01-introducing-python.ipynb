{
 "cells": [
  {
   "cell_type": "markdown",
   "id": "92802dd6-6778-4f5f-a519-ecef39cab5f2",
   "metadata": {
    "tags": []
   },
   "source": [
    "# Introducing Python"
   ]
  },
  {
   "cell_type": "markdown",
   "id": "1c7a5d7f-b77b-4e6c-9664-34c548f8d82e",
   "metadata": {
    "tags": [
     "metadata"
    ]
   },
   "source": [
    "## Metadata\n",
    "\n",
    "- Teaching: 60\n",
    "- Exercises: 0"
   ]
  },
  {
   "cell_type": "markdown",
   "id": "296e4c82-12fd-4526-bbb5-57cecd0b7fbf",
   "metadata": {
    "tags": [
     "questions"
    ]
   },
   "source": [
    "## Questions\n",
    "\n",
    "- What is Python?\n",
    "- How do we assign variables in Python?\n",
    "- How do we perform actions in Python?\n",
    "- How does Python handle different types of data?"
   ]
  },
  {
   "cell_type": "markdown",
   "id": "cce1c7ef-3291-4cda-a04c-2c4ebd989c94",
   "metadata": {
    "tags": [
     "objectives"
    ]
   },
   "source": [
    "## Objectives\n",
    "\n",
    "- Introduce some Python terminology\n",
    "- Learn how to assign values to variables\n",
    "- Learn how to use functions and methods\n",
    "- Introduce the built-in Python data types and functions\n",
    "- Introduce the Python Standard Library"
   ]
  },
  {
   "cell_type": "markdown",
   "id": "4ce49471-1cfd-4b3e-b425-26213f21ed47",
   "metadata": {
    "tags": []
   },
   "source": [
    "## About Python\n",
    "\n",
    "Python is a high-level, general purpose language. In practical terms, that means it dispenses with many of the complexities of writing code. It is widely used and has an active community of developers, making it suitable for a large number of tasks. \n",
    "\n",
    "A core philosophical tenet of Python is that code is read more often than it is written. Best practices for coding in Python therefore emphasize writing well-documented, consistently formatted code that follows language-wide standards. **In a Pythonic world, everyone's code would look the same.**\n"
   ]
  },
  {
   "cell_type": "markdown",
   "id": "2c2569d5",
   "metadata": {
    "tags": [
     "callout"
    ]
   },
   "source": [
    "#### Whitespace\n",
    "\n",
    "One feature to be aware of going in is that Python uses whitespace (as opposed to braces) to organize blocks of code. This can be a sticking point for people used to other languages."
   ]
  },
  {
   "cell_type": "markdown",
   "id": "26966efb",
   "metadata": {},
   "source": [
    "## Getting started\n",
    "\n",
    "Everything in Python is an *object*. Each object has a type, which controls what the object can do. For example, we can add integers together or append a string to a list. An object can be *assigned* to a *variable*, and a *function* performs an action.\n",
    "\n",
    "Python is an *object-oriented language*. This means that each object includes built-in variables and functions that can be used from the object itself. Whe use different terms to refer to variables and functions associated with an object:\n",
    "\n",
    "+ an *attribute* stores a piece of data\n",
    "+ a *method* performs an action\n",
    "\n",
    "Let's look at one of the main built-in types, `str`, to see how this works in practice. In Python, `str`, short for string, is used to store and manipulate text. To get started, we'll assign the string \"hello world\" to the variable **text**. In Python, we use a single equal sign for assignment and quotes to create a string."
   ]
  },
  {
   "cell_type": "code",
   "execution_count": null,
   "id": "24416ea1-1293-4149-b192-5aeb58bbaf02",
   "metadata": {},
   "outputs": [],
   "source": [
    "text = \"hello world\""
   ]
  },
  {
   "cell_type": "markdown",
   "id": "4494cb1a-5a98-4648-8b7f-7daf3510510b",
   "metadata": {
    "tags": [
     "callout"
    ]
   },
   "source": [
    "### Using quotes\n",
    "\n",
    "Either single or double quotes can be used to create strings, but try to use them consistently! We will use double quotes in the examples here."
   ]
  },
  {
   "cell_type": "markdown",
   "id": "87cf2737-bc67-45c7-815e-9a4b5cbb42e0",
   "metadata": {},
   "source": [
    "Now, instead of retyping the full string every time we need it, we can access that string by referring to the variable:"
   ]
  },
  {
   "cell_type": "code",
   "execution_count": null,
   "id": "6b74a28c-2ed1-4738-9d53-bc88097a6f34",
   "metadata": {},
   "outputs": [],
   "source": [
    "text"
   ]
  },
  {
   "cell_type": "markdown",
   "id": "32a616c6-3040-44dc-bb60-fe056a81e6d2",
   "metadata": {},
   "source": [
    "We can check the type of the variable using the `type()` function:"
   ]
  },
  {
   "cell_type": "code",
   "execution_count": null,
   "id": "fe9161a6-c1cf-47d4-be9e-134f1a6ded01",
   "metadata": {},
   "outputs": [],
   "source": [
    "type(text)"
   ]
  },
  {
   "cell_type": "markdown",
   "id": "d40c0cce-33d2-414f-8eae-80559c049dce",
   "metadata": {},
   "source": [
    "A `str` is also an object, which means that it includes methods and attributes that we can use. Let's use the `upper()` method to convert the text to upper case. We call methods by adding a period and the name of the method to the variable:"
   ]
  },
  {
   "cell_type": "code",
   "execution_count": null,
   "id": "87a953bb-f033-46bf-8973-7c6bbf0073d7",
   "metadata": {},
   "outputs": [],
   "source": [
    "text.upper()"
   ]
  },
  {
   "cell_type": "markdown",
   "id": "3f804fc9-955c-4ba0-9bf0-8f3ab40050db",
   "metadata": {},
   "source": [
    "After running a cell, the notebook displays the object that appears in the last line of a cell (but note that some actions, like assigning to a variable, have no output). Some cells will have more than one line, and it is often useful to display output from earlier in a cell. This can be accomplished using the built-in `print()` function. In the cell below, we'll use `print()` to show a series of strings:"
   ]
  },
  {
   "cell_type": "code",
   "execution_count": null,
   "id": "c0c7694a-4ff2-4dc3-91c9-797bfa0194f4",
   "metadata": {},
   "outputs": [],
   "source": [
    "\"hello\"\n",
    "print(\"h\")\n",
    "print(\"e\")\n",
    "print(\"l\")\n",
    "print(\"l\")\n",
    "print(\"o\")\n",
    "\"world\""
   ]
  },
  {
   "cell_type": "markdown",
   "id": "74a0e569-481c-451c-86be-b04f2609142f",
   "metadata": {},
   "source": [
    "Note that the string \"hello\" at the top of the cell lacks a print statement and does not appear in the output, whereas the text \"world\" *does* appear in the output because it is the last line of the cell.\n",
    "\n",
    "Each object may contain many attributes and methods. Use the `help()` function on any object, including functions or methods, to show a description of the object and list the available methods."
   ]
  },
  {
   "cell_type": "code",
   "execution_count": null,
   "id": "3a614f72-25c8-4862-b135-8de9ed1a347d",
   "metadata": {},
   "outputs": [],
   "source": [
    "help(str)"
   ]
  },
  {
   "cell_type": "markdown",
   "id": "57f08c38-6a59-41d6-996c-fb65164f5ee4",
   "metadata": {},
   "source": [
    "### Data types\n",
    "\n",
    "Python includes data types for representing other types of data, including numbers or collections of data. The core Python data types are introduced in the table below. We'll talk more about some of these as we encounter them in the lesson:\n",
    "\n",
    "|Type|Definition|Example|\n",
    "|-|-|-|\n",
    "|[str](https://docs.python.org/3/library/stdtypes.html#textseq)|Character string|`\"hello world\"`|\n",
    "|[int](https://docs.python.org/3/library/functions.html#int)|Integer numerical|`42`|\n",
    "|[float](https://docs.python.org/3/library/functions.html#float)|Approximate numerical|`0.406`|\n",
    "|[bool](https://docs.python.org/3/library/functions.html#bool)|Stores True or False values|`True` or `False`|\n",
    "|[list](https://docs.python.org/3/library/stdtypes.html#lists)|Sequence that can be modified|`[\"a\", \"b\", \"c\"]`|\n",
    "|[tuple](https://docs.python.org/3/library/stdtypes.html#tuples)|Sequence that cannot be modified|`(\"a\", \"b\", \"c\")`|\n",
    "|[dict](https://docs.python.org/3/library/stdtypes.html#mapping-types-dict)|Mapping of keys to values|`{\"DC\": \"District of Columbia\", \"MD\": \"Maryland\", \"VA\": \"Virginia\"}`|\n",
    "|[set](https://docs.python.org/3/library/stdtypes.html#set-types-set-frozenset)|Collection of unique values|`{\"1\", \"2\", 1}`|"
   ]
  },
  {
   "cell_type": "markdown",
   "id": "f0778e06-a829-4fdc-bb30-f848ceb9f6f8",
   "metadata": {},
   "source": [
    "## Libraries\n",
    "\n",
    "Python includes a number of [built-in functions](https://docs.python.org/3/library/functions.html) that are available wherever Python is installed. See the table below for some examples.\n",
    "\n",
    "### Examples of built-in functions\n",
    "\n",
    "|Name|Description|Example|\n",
    "|-|-|-|\n",
    "|[`abs()`](https://docs.python.org/3/library/functions.html#abs)|Gets the absolute value of a number|`abs(-1.5) # returns 1.5`|\n",
    "|[`max()`](https://docs.python.org/3/library/functions.html#max)|Gets the highest value in a sequence|`min([1, 2, 3]) # returns 3`|\n",
    "|[`min()`](https://docs.python.org/3/library/functions.html#min)|Gets the lowest value in a sequence|`min([1, 2, 3]) # returns 1`|\n",
    "|[`round()`](https://docs.python.org/3/library/functions.html#round)|Rounds a number to the nearest integer|`round(5.4) # returns 5`|\n",
    "\n",
    "Python also includes a number of built-in modules. A *module* bundles functions and other code related to a single task or data type. They are used to simplify the performance of common tasks. By using a common, well-tested code base, modules allow coders to work more quickly and with fewer errors."
   ]
  },
  {
   "cell_type": "markdown",
   "id": "5757bdd9",
   "metadata": {
    "tags": [
     "callout"
    ]
   },
   "source": [
    "#### Modules, packages, and libraries\n",
    "\n",
    "A module is generally a single file. Collections of modules are referred to as packages or libraries."
   ]
  },
  {
   "cell_type": "markdown",
   "id": "f9bae3e5",
   "metadata": {},
   "source": [
    "The modules built into Python are referred to as the [Python Standard Library](https://docs.python.org/3/library/index.html). They can be accessed through a typical Python installation and do not require any additional downloads. A few examples are included in the table below, but as with the table of built-in functions, there are more where those came from.\n",
    "\n",
    "### Examples from the Python Standard Library\n",
    "\n",
    "|Library|Description|\n",
    "|-|-|\n",
    "|[datetime](https://docs.python.org/3/library/datetime.html)|Read, write, and analyze dates and times|\n",
    "|[os](https://docs.python.org/3/library/os.html)|Create, manipulate, and get information about files and paths|\n",
    "|[random](https://docs.python.org/3/library/random.html)|Generate pseudo-random numbers|"
   ]
  },
  {
   "cell_type": "markdown",
   "id": "98d64936-bf77-4a34-b062-f365808586f1",
   "metadata": {
    "tags": [
     "callout"
    ]
   },
   "source": [
    "## Documentation\n",
    "\n",
    "The documentation for each module can be viewed by clicking the link in the table. Documentation is an invaluable resource. It provides descriptions of what a module does and detailed information about how it can be used, often including examples."
   ]
  },
  {
   "cell_type": "markdown",
   "id": "a4b5c5e0-8b6b-48fe-b698-04363da0fa93",
   "metadata": {},
   "source": [
    "Unlike the built-in functions, we must import a library before we can use it. We do so using the `import` statement:"
   ]
  },
  {
   "cell_type": "code",
   "execution_count": null,
   "id": "0a442b1f-39cf-4379-a166-6fcdaf801b83",
   "metadata": {},
   "outputs": [],
   "source": [
    "import datetime"
   ]
  },
  {
   "cell_type": "markdown",
   "id": "7bf47e4c-dbb0-4d6f-8014-9dee5b08ac5d",
   "metadata": {},
   "source": [
    "Once imported, the module is available for use anywhere in the current document. A module is itself an object, and we must include the name of the module to access any functions it defines. For example, to create a `datetime.date` object (that is, a `date` object defined by the `datetime` module), we include both the module and method name:"
   ]
  },
  {
   "cell_type": "code",
   "execution_count": null,
   "id": "4505b3be-52de-440f-b3f2-9f0a62b8f242",
   "metadata": {},
   "outputs": [],
   "source": [
    "date = datetime.date(1970, 1, 1)"
   ]
  },
  {
   "cell_type": "markdown",
   "id": "44f2089e-cebc-4552-9e20-e6dfe64dbc7a",
   "metadata": {},
   "source": [
    "As with the built-in types, the `datetime.date` object includes its own suite of attributes and methods. We can, for example, use the year attribute to get the year:"
   ]
  },
  {
   "cell_type": "code",
   "execution_count": null,
   "id": "d487fc1c-e0a0-435c-85e8-5429ae854d37",
   "metadata": {},
   "outputs": [],
   "source": [
    "date.year"
   ]
  },
  {
   "cell_type": "markdown",
   "id": "bfb5c8a9-21c8-4719-91c2-3cbc015d5d04",
   "metadata": {},
   "source": [
    "Or convert the date to a string using the [`strftime()`](https://docs.python.org/3/library/datetime.html#datetime.date.strftime) method and Python's [date format codes](https://docs.python.org/3/library/datetime.html#strftime-and-strptime-format-codes). Here, %Y corresponds to YYYY, %m to MM, and %d to DD."
   ]
  },
  {
   "cell_type": "code",
   "execution_count": null,
   "id": "9e247e84-bc1d-4916-9a83-0f324fb5b3b9",
   "metadata": {},
   "outputs": [],
   "source": [
    "date.strftime(\"%Y-%m-%d\")"
   ]
  },
  {
   "cell_type": "markdown",
   "id": "bd71a595-adf2-411a-837d-961a0e5cd2de",
   "metadata": {},
   "source": [
    "Like Python itself, the Python Standard Library is maintained by the Python Software Foundation. The built-in modules are limited to a relatively small set of operations expected to be useful to a broad population of users. However, Python allows users to create their own packages to perform actions that are beyond the scope of core Python. The rest of this lesson will focus on an external package called pandas."
   ]
  },
  {
   "cell_type": "markdown",
   "id": "d190e838-1aad-4e26-adeb-bb1be3a4df15",
   "metadata": {
    "tags": [
     "keypoints"
    ]
   },
   "source": [
    "## Keypoints\n",
    "\n",
    "- Python is a widely used language that can be used for a variety of tasks, including analyzing data\n",
    "- Python uses different data types to handle text, numbers, collections, and other kinds of data\n",
    "- Assign values to variables using the `=` operator\n",
    "- Use functions and methods to perform specific actions\n",
    "- Python's functionality can be extended using packages developed by the community \n",
    "- Use the `help()` function and developer documentation to learn more about Python modules and packages"
   ]
  },
  {
   "cell_type": "markdown",
   "id": "7943a35b",
   "metadata": {},
   "source": []
  }
 ],
 "metadata": {
  "language_info": {
   "name": "python"
  }
 },
 "nbformat": 4,
 "nbformat_minor": 5
}