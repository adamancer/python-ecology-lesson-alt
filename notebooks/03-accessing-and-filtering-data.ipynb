{
 "cells": [
  {
   "cell_type": "markdown",
   "id": "224ee806-8841-455d-a1b1-893a009952a6",
   "metadata": {},
   "source": [
    "# Accessing and Filtering Data"
   ]
  },
  {
   "cell_type": "markdown",
   "id": "d0a0a27b-abec-443b-8726-93636090a6ea",
   "metadata": {
    "tags": [
     "metadata"
    ]
   },
   "source": [
    "## Metadata\n",
    "\n",
    "- Teaching: 60\n",
    "- Exercises: 0"
   ]
  },
  {
   "cell_type": "markdown",
   "id": "4db8f704-052c-4e25-8cd5-fa90f7f4234f",
   "metadata": {
    "tags": [
     "questions"
    ]
   },
   "source": [
    "## Questions\n",
    "\n",
    "- How can we look at individual rows and columns in a dataframe?\n",
    "- How can we look at subsets of the dataset?"
   ]
  },
  {
   "cell_type": "markdown",
   "id": "52aecff1-ebb5-4e88-b6d8-f70544da0bd2",
   "metadata": {
    "tags": [
     "objectives"
    ]
   },
   "source": [
    "## Objectives\n",
    "\n",
    "- Access individual rows and columns\n",
    "- Access multiple columns at once using a list\n",
    "- Filter the dataframe based on the data it contains\n",
    "- Sort the dataframe"
   ]
  },
  {
   "cell_type": "markdown",
   "id": "8a3232b1-524e-4662-9498-c13fecaf84e7",
   "metadata": {},
   "source": [
    "In the previous lesson, we saw how to load a dataframe from a file. Now we'll look at how to access the data within that dataframe. We'll begin by importing pandas and reading our CSV, as we did in the previous lesson:"
   ]
  },
  {
   "cell_type": "code",
   "execution_count": null,
   "id": "6e254b66",
   "metadata": {},
   "outputs": [],
   "source": [
    "import pandas as pd\n",
    "\n",
    "surveys = pd.read_csv(\"data/surveys.csv\")\n",
    "surveys"
   ]
  },
  {
   "cell_type": "markdown",
   "id": "bb741276",
   "metadata": {},
   "source": [
    "## Getting a column\n",
    "\n",
    "We can get a single column from the dataframe using square brackets. Square brackets are used in Python to access objects inside a container like a `list`, `dict`, or `DataFrame`. To get a column, we pass the name of the column inside a set brackets appended to the dataframe. For example, tp retrieve the year, use:"
   ]
  },
  {
   "cell_type": "code",
   "execution_count": null,
   "id": "a9e2b496",
   "metadata": {},
   "outputs": [],
   "source": [
    "surveys[\"year\"]"
   ]
  },
  {
   "cell_type": "markdown",
   "id": "65661849",
   "metadata": {},
   "source": [
    "A single column is returned as a `Series`, which is why the output for this cell is formatted differently than the other cells in this lesson. The main difference between a `Series` and a `DataFrame` is that a `DataFrame` can have multiple columns. The two classes share many but not all attributes and methods.\n",
    "\n",
    "Note also that this is a copy of data from the original dataframe. Changing values in the series will have no effect on the original dataframe. **Most operations on a DataFrame or Series return a copy of the original object.**"
   ]
  },
  {
   "cell_type": "markdown",
   "id": "2fe7e39a",
   "metadata": {},
   "source": [
    "## Getting unique values\n",
    "\n",
    "We can get the list of unique values within a column using the `unique()` method:"
   ]
  },
  {
   "cell_type": "code",
   "execution_count": null,
   "id": "07e4a228",
   "metadata": {},
   "outputs": [],
   "source": [
    "surveys[\"species_id\"].unique()"
   ]
  },
  {
   "cell_type": "markdown",
   "id": "59746f28",
   "metadata": {},
   "source": [
    "## Getting multiple columns\n",
    "\n",
    "It is also possible to retrieve more than one column at a time. To do some, we'll use the built-in `list` data type. \n",
    "\n",
    "Python uses `list` to store sequences, that is, ordered lists of objects. Any type of Python object can be stored in a list: strings, integers, floats, even other lists or collections. Once created, a list can be modified by appending, inserting, or deleting items. We will not be going into detail about these operations here, but as always you can learn more about how to use a list using `help()` or [the Python docs](https://docs.python.org/3/library/stdtypes.html#list).\n",
    "\n",
    "You can create a list using square brackets. Let's create a list of the three columns in our dataframe that together give the date of an observation:"
   ]
  },
  {
   "cell_type": "code",
   "execution_count": null,
   "id": "0b5f5fd3-11e5-422c-af2c-4eab2f741c41",
   "metadata": {},
   "outputs": [],
   "source": [
    "cols = [\"year\", \"month\", \"day\"]"
   ]
  },
  {
   "cell_type": "markdown",
   "id": "72a5239d-854f-4fd2-b315-984e18ccf7d2",
   "metadata": {},
   "source": [
    "When we pass this list to the survey dataframe using square brackets, as we did above, we get a copy of the dataframe containing just those columns. Note that, because we asked for more than one column, pandas returns a dataframe:"
   ]
  },
  {
   "cell_type": "code",
   "execution_count": null,
   "id": "b1900b96",
   "metadata": {},
   "outputs": [],
   "source": [
    "surveys[cols]"
   ]
  },
  {
   "cell_type": "markdown",
   "id": "bc9c4fc8-041f-4336-8005-c44a8d3e4fa3",
   "metadata": {},
   "source": [
    "Suppose we want to get the unique values for multiple columns. The `unique()` method only works on a `Series`, that is, a single column. Instead, we can use the `drop_duplicates()` method on a copy of the dataframe with the columns we're interested in. Like any well-named method, `drop_duplicates()` does exactly what the name implies: It returns a copy of the dataframe with all duplicate rows removed."
   ]
  },
  {
   "cell_type": "code",
   "execution_count": null,
   "id": "cbebbceb-3a00-4c4c-ab8d-2fb1a80ef783",
   "metadata": {},
   "outputs": [],
   "source": [
    "surveys[[\"plot_id\", \"species_id\"]].drop_duplicates()"
   ]
  },
  {
   "cell_type": "markdown",
   "id": "624b4cca",
   "metadata": {
    "tags": []
   },
   "source": [
    "## Getting one or more rows\n",
    "\n",
    "Pandas provides a variety of ways to view rows within a dataframe. We can get the rows at the beginning of the dataframe using `head()`:"
   ]
  },
  {
   "cell_type": "code",
   "execution_count": null,
   "id": "528e4df2",
   "metadata": {},
   "outputs": [],
   "source": [
    "surveys.head()"
   ]
  },
  {
   "cell_type": "markdown",
   "id": "6806d90c",
   "metadata": {},
   "source": [
    "By default, this methods returns the first five rows. We can provide a number inside the parentheses if we want to view a different number of rows:"
   ]
  },
  {
   "cell_type": "code",
   "execution_count": null,
   "id": "dfb318ea",
   "metadata": {},
   "outputs": [],
   "source": [
    "surveys.head(10)"
   ]
  },
  {
   "cell_type": "markdown",
   "id": "196cd04c",
   "metadata": {},
   "source": [
    "The `tail()` method is similar, except it returns rows from the end of the table:"
   ]
  },
  {
   "cell_type": "code",
   "execution_count": null,
   "id": "b74abe8f",
   "metadata": {},
   "outputs": [],
   "source": [
    "surveys.tail()"
   ]
  },
  {
   "cell_type": "markdown",
   "id": "c610186e-36eb-4678-a5df-9a8913066a85",
   "metadata": {},
   "source": [
    "Or we can use `sample()` to return a random row from anywhere in the dataframe:"
   ]
  },
  {
   "cell_type": "code",
   "execution_count": null,
   "id": "c8685f24",
   "metadata": {},
   "outputs": [],
   "source": [
    "surveys.sample()"
   ]
  },
  {
   "cell_type": "markdown",
   "id": "d70db6fb",
   "metadata": {},
   "source": [
    "If you're following along, you may notice that the output of this method on your screen differs from what's shown here. That's exactly what we'd expect to see. Remember, `sample()` is returnning a random row--it would be far less likely for the outputs to be the same!"
   ]
  },
  {
   "cell_type": "markdown",
   "id": "ed753e4f",
   "metadata": {},
   "source": [
    "## Slicing the dataframe\n",
    "\n",
    "The `head()`, `tail()`, and `sample()` methods are useful for getting a feel for how our data is structured, but we may also want to look at specific rows. One way to do so is to extract rows based on where they appear in the dataframe. We can use square brackets to extract these *slices*. A slice is a subset of the dataframe starting at one row and ending at another. To get a slice, we pass the starting and ending indexes to the square brackets as `start:end`:"
   ]
  },
  {
   "cell_type": "code",
   "execution_count": null,
   "id": "981d1ab3-1bfa-4291-8dd5-ec69ea40b9df",
   "metadata": {},
   "outputs": [],
   "source": [
    "surveys[2:5]"
   ]
  },
  {
   "cell_type": "markdown",
   "id": "1e676e9c-e1f4-4cf2-b5ce-244998294def",
   "metadata": {},
   "source": [
    "There are three things to be aware of when slicing a dataframe:\n",
    "\n",
    "- Row indexes are *zero-based*. The first row has an index of 0, not 1.\n",
    "- When slicing, the slice includes start but not the end index. In this case, that means the slice includes rows 2, 3, and 4 but not 5.\n",
    "- The row label can be different from the row index. They happen to be the same here, but don't count on that being true.\n",
    "\n",
    "Core Python types like `list` and `tuple` use the same conventions, as do most Python pacakges that work with sequences."
   ]
  },
  {
   "cell_type": "markdown",
   "id": "d96f11c8-72f1-4a0f-9885-bad06c0c4280",
   "metadata": {},
   "source": [
    "## Filtering data\n",
    "\n",
    "It is often more useful to subset a dataframe based on the data itself. Pandas provides a variety of ways to filter a dataframe in this way. For example, suppose we want to look at a specific species in the surveys dataframe. We can view the rows matching a given species using the same square brackets we used above to select specific columns and rows. Here, however, instead of using a value or list of values, we will use a *conditional expression*.\n",
    "\n",
    "A conditional expression is a statement that evaluates as either True or False. They often make use of inequality operators, for example:\n",
    "\n",
    "- `==` for equals\n",
    "- `!=` for does not equal\n",
    "- `>` for greater than\n",
    "- `>=` for greater than or equal to\n",
    "- `<` for less than\n",
    "- `<=` for less than or equal to\n",
    "\n",
    "Examples of conditional statements include:\n",
    "\n",
    "+ `\"a\" == \"b\"` evaluates False\n",
    "+ `\"a\" != b\"` evaluates True\n",
    "+ `3 > 4` evaluates False\n",
    "\n",
    "Note that, when comparing strings, evaluations are case sensitive:\n",
    "\n",
    "+ `\"a\" == \"A\"` evaluates False"
   ]
  },
  {
   "cell_type": "markdown",
   "id": "94034764-67d5-4bf9-81fb-c337a0025476",
   "metadata": {
    "tags": [
     "callout"
    ]
   },
   "source": [
    "### = for assignment, == for equality\n",
    "\n",
    "Remember that, in Python, a single equal sign is used to assign values to variables. We've already used the assignment operator in this lesson, for example, when we created a new column in the dataframe."
   ]
  },
  {
   "cell_type": "markdown",
   "id": "5909fedb-f954-4bdf-bc3e-c11f64fd3f73",
   "metadata": {},
   "source": [
    "To limit the dataframe to rows matching the species \"DM\", we will again use square brackets. This time, instead of passing a string or a number, we will include the conditional `surveys[\"species_id\"] == \"DM\"` inside the square brackets:"
   ]
  },
  {
   "cell_type": "code",
   "execution_count": null,
   "id": "2bc5ecce",
   "metadata": {},
   "outputs": [],
   "source": [
    "surveys[surveys[\"species_id\"] == \"DM\"]"
   ]
  },
  {
   "cell_type": "markdown",
   "id": "3cffa735",
   "metadata": {},
   "source": [
    "Other comparisons can be used in the same way. To limit our results to observations made in or after 2000, use:"
   ]
  },
  {
   "cell_type": "code",
   "execution_count": null,
   "id": "6dc00554",
   "metadata": {},
   "outputs": [],
   "source": [
    "surveys[surveys[\"year\"] >= 2000]"
   ]
  },
  {
   "cell_type": "markdown",
   "id": "3ca49f13-7c7a-4519-9b15-8168d206e467",
   "metadata": {},
   "source": [
    "As when we selected columns above, each filtering operation returns a copy of the dataframe."
   ]
  },
  {
   "cell_type": "markdown",
   "id": "7fc0ca41",
   "metadata": {},
   "source": [
    "## Using complex filters\n",
    "\n",
    "When analyzing data, we will often need to filter on multiple columns at one time. In pandas, we can combine conditionals using *bitwise operators*. These work like the terms AND and OR in many search interfaces:\n",
    "\n",
    "+ `&`: True if conditions on both sides of the operator are True (and)\n",
    "+ `|`: True if a condition on either side is True (or)\n",
    "\n",
    "To return all observations of DM in or after 2000, we can combine the two conditionals we used previously into a single operation. Note that, when joining conditionals using `&` or `|`, we must wrap each individual condition in parentheses. If we omit the parentheses, pandas will not perform the comparisons in the expected order."
   ]
  },
  {
   "cell_type": "code",
   "execution_count": null,
   "id": "60491231",
   "metadata": {},
   "outputs": [],
   "source": [
    "surveys[(surveys[\"species_id\"] == \"DM\") & (surveys[\"year\"] >= 2000)]"
   ]
  },
  {
   "cell_type": "markdown",
   "id": "c4cce15e",
   "metadata": {},
   "source": [
    "We can also use methods to filter the dataframe. For example, `isin()` can be used to match a list of values. Methods can be combined with other conditionals as above. The example below returns rows from 2000 or later with either \"DM\", \"DO\", or \"DS\" in the species_id column:"
   ]
  },
  {
   "cell_type": "code",
   "execution_count": null,
   "id": "1597b129",
   "metadata": {},
   "outputs": [],
   "source": [
    "surveys[\n",
    "    surveys[\"species_id\"].isin([\"DM\", \"DO\", \"DS\"]) & (surveys[\"year\"] >= 2000)\n",
    "]"
   ]
  },
  {
   "cell_type": "markdown",
   "id": "15466f1f",
   "metadata": {},
   "source": [
    "## Sorting data\n",
    "\n",
    "We can sort a dataframe using the `sort_values()` method. To sort by weight, we'll pass the name of that column to the `sort_values()`:"
   ]
  },
  {
   "cell_type": "code",
   "execution_count": null,
   "id": "5e6557f4-b9d2-464c-a18e-5366dde1257a",
   "metadata": {},
   "outputs": [],
   "source": [
    "surveys.sort_values(\"weight\")"
   ]
  },
  {
   "cell_type": "markdown",
   "id": "2bcf250e",
   "metadata": {},
   "source": [
    "By default, rows are sorted in ascending order (smallest to largest). We can reorder them from largest to smallest using the *ascending* keyword argument:"
   ]
  },
  {
   "cell_type": "code",
   "execution_count": null,
   "id": "46222474",
   "metadata": {},
   "outputs": [],
   "source": [
    "surveys.sort_values(\"weight\", ascending=False)"
   ]
  },
  {
   "cell_type": "markdown",
   "id": "e1a42329",
   "metadata": {},
   "source": [
    "We can sort on multiple fields at once by passing a list of column names. We can control how each column sorts by passing a list with the same number of values (that is, one value per column) to the ascending keyword. The cell below sorts the results first by species_id (largest to smallest), then by weight (smallest to largest):"
   ]
  },
  {
   "cell_type": "code",
   "execution_count": null,
   "id": "a8be9795",
   "metadata": {},
   "outputs": [],
   "source": [
    "surveys.sort_values([\"species_id\", \"weight\"], ascending=[False, True])"
   ]
  },
  {
   "cell_type": "markdown",
   "id": "f71a5e55",
   "metadata": {},
   "source": [
    "As with the dataframe methods above, `sort_values()` returns a copy of the original dataframe and leaves the original untouched."
   ]
  },
  {
   "cell_type": "markdown",
   "id": "710cb178",
   "metadata": {
    "tags": [
     "challenge"
    ]
   },
   "source": [
    "### Challenge\n",
    "\n",
    "Write a query that returns year, species_id, and weight from the surveys table, sorted with the largest weights at the top."
   ]
  },
  {
   "cell_type": "code",
   "execution_count": null,
   "id": "bd0204b4",
   "metadata": {
    "tags": [
     "solution"
    ]
   },
   "outputs": [],
   "source": [
    "# Create a subset containing only year, species_id, and weight\n",
    "subset = surveys[[\"year\", \"species_id\", \"weight\"]]\n",
    "\n",
    "# Sort the subset by weight\n",
    "subset.sort_values(\"weight\", ascending=False)"
   ]
  },
  {
   "cell_type": "markdown",
   "id": "8d5e3ba4",
   "metadata": {},
   "source": [
    "## Showing data on a plot\n",
    "\n",
    "We will discuss data visualization using plotly in depth in [lesson 6](06-visualizing-data.html) but will introduce some fundamental concepts as we go along. Like pandas, plotly is an external package installed separately from Python itself. It can be used to create interactive, highly customizable plots based on pandas dataframes using just a few lines of code. For example, to create a scatter plot of the weight and hindfoot length, we need only to import plotly:"
   ]
  },
  {
   "cell_type": "code",
   "execution_count": null,
   "id": "f4d26d50",
   "metadata": {},
   "outputs": [],
   "source": [
    "import plotly.express as px"
   ]
  },
  {
   "cell_type": "markdown",
   "id": "ed1106da",
   "metadata": {},
   "source": [
    "Once plotly is loaded, we can create a scatter plot using the `px.scatter()` method. We include the dataframe as the first argument, then x and y keyword arguments to select the columns we want to show on our scatter plot:"
   ]
  },
  {
   "cell_type": "code",
   "execution_count": null,
   "id": "0dfd8bb4",
   "metadata": {},
   "outputs": [],
   "source": [
    "px.scatter(surveys, x=\"weight\", y=\"hindfoot_length\")"
   ]
  },
  {
   "cell_type": "markdown",
   "id": "875a1693",
   "metadata": {},
   "source": [
    "This simple plot is limited in what it can tell us about the observations in the dataset. We will return to this scatter plot in later lessons to see how we can improve it to better understand the survey data."
   ]
  },
  {
   "cell_type": "markdown",
   "id": "536b274b-64eb-472e-ae00-ba30d761c310",
   "metadata": {
    "tags": [
     "keypoints"
    ]
   },
   "source": [
    "## Keypoints\n",
    "\n",
    "- Use square brackets to access rows, columns, and specific cells\n",
    "- Sort data and get unique values in a dataframe using methods provided by pandas\n",
    "- By default, most dataframe operations return a copy of the original data\n",
    "- Scatter plots can be used to visualize how two parameters in a dataset covary"
   ]
  }
 ],
 "metadata": {
  "language_info": {
   "name": "python"
  }
 },
 "nbformat": 4,
 "nbformat_minor": 5
}